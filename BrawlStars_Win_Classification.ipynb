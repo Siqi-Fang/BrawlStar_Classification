{
  "cells": [
    {
      "cell_type": "markdown",
      "metadata": {
        "id": "view-in-github",
        "colab_type": "text"
      },
      "source": [
        "<a href=\"https://colab.research.google.com/github/Siqi-Fang/BrawlStar_Classification/blob/main/BrawlStars_Win_Classification.ipynb\" target=\"_parent\"><img src=\"https://colab.research.google.com/assets/colab-badge.svg\" alt=\"Open In Colab\"/></a>"
      ]
    },
    {
      "cell_type": "markdown",
      "metadata": {
        "id": "UYUXgak2gfjQ"
      },
      "source": [
        "#TL;DR#\n",
        "The project focuses on predicting the outcome of a Brawl Star match with pre-game information using classification models. The data used for training an testing are collected from Supercell API. Tree based models have shown best results with Random Forest achieving 87% accuracy score.\n",
        "\n",
        "Results from the project showed that pre-game inforamtion are complicated and context dependent. Thus, models may be trained towards more targeted goals(for example, trained to predict selected game mode only) to achieve higher accuracy and be applied in practice.\n"
      ]
    },
    {
      "cell_type": "markdown",
      "source": [
        "#Background\n",
        "Brawl Start is a multiplayer online battle mobile game that features multiple game modes. In our project, we focus on game modes that feature 2 teams of 3 players. Our goal is to make prediction of a game outcome with **pre-game statistics**. \n",
        "Players choose from a selection of Brawlers, which are characters that can be controlled with on-screen joysticks in a game match.\n",
        "More information is provided in data section.\n",
        "\n",
        "#Goals\n",
        "Our initial assumption is that, since the game is easy to pick up, pre-game information such as brawler choice is highly predicative of the match outcome. We also tested features that reflect a player's experience level in our model. \n",
        "\n",
        "Possible applications:\n",
        "\n",
        "- Recommend teams for amature players to help them strategize.\n",
        "- Help making balance change decisions when developing new maps or brawlers. \n"
      ],
      "metadata": {
        "id": "wyAQyjQ72Gs_"
      }
    },
    {
      "cell_type": "markdown",
      "metadata": {
        "id": "tCrAZeV4FuR8"
      },
      "source": [
        "#Basic Packages"
      ]
    },
    {
      "cell_type": "code",
      "execution_count": 1,
      "metadata": {
        "id": "X5qgQ9SbmDiB"
      },
      "outputs": [],
      "source": [
        "import json\n",
        "import pandas as pd\n",
        "import numpy as np\n",
        "from sklearn.model_selection import train_test_split\n",
        "# visualization modules\n",
        "import seaborn as sns\n",
        "import matplotlib.pyplot as plt"
      ]
    },
    {
      "cell_type": "markdown",
      "metadata": {
        "id": "Z8oZ5b1qiNqX"
      },
      "source": [
        "# The Data\n",
        "Data are from Supercell API. I used [this](https://brawlstats.readthedocs.io/en/latest/api.html) wrapper to collect the data. Its object oriented design is convinient for data transformation. \n"
      ]
    },
    {
      "cell_type": "markdown",
      "metadata": {
        "id": "Qg2CPeKno7f5"
      },
      "source": [
        "Here is a list of features used in this project. \n",
        "\n",
        "\n",
        "Feature|Type|Description\n",
        "--------|--------|-------- \n",
        "result|object| Game result: victory, defeat, draw\n",
        "mode|object| There are different game modes in the game, each with different goal/criterion to win\n",
        "brawler|object| The character the player controls in a match\n",
        "power|float64| The power level of the brawler selected range  [1-11]\n",
        "b_trophies|float64| The number of trophies of a selected brawler, higher trophies indicate more experience with the brawler\n",
        "map|object| Map of a match, dependent on game mode\n",
        "p_trophies|float64| The sum of trophy number of all brawlers owned by a player, gets reset every a new season\n",
        "exp_level|float64|Experince level of the player, similar to trophy but is cumulative\n",
        "3v3_win|float64|Number of 3v3 team play game won\n",
        "solo_win|float64| Number of solo showdown game won\n",
        "duo_win|float64|Number of duo showdown game won\n",
        "trophy_difference|float64|Calculated by taking the average brawler trophy of each team \n",
        "power_difference|float64|Calculated by taking the average brawler power of each team "
      ]
    },
    {
      "cell_type": "markdown",
      "source": [
        "|index|result|mode|brawler|power|b\\_trophies|map|p\\_trophies|3v3\\_win|solo\\_win|duo\\_win|exp\\_level|trophy\\_difference|power\\_difference|\n",
        "|---|---|---|---|---|---|---|---|---|---|---|---|---|---|\n",
        "|0|victory|gemGrab|TARA|10\\.0|1043\\.0|Flooded Mine|54761\\.0|29761\\.0|1916\\.0|1163\\.0|288\\.0|340\\.67|0\\.0|\n",
        "|1|victory|gemGrab|TARA|10\\.0|1038\\.0|Flooded Mine|54761\\.0|29761\\.0|1916\\.0|1163\\.0|288\\.0|367\\.33|1\\.33|\n",
        "|2|victory|gemGrab|TARA|10\\.0|1033\\.0|Flooded Mine|54761\\.0|29761\\.0|1916\\.0|1163\\.0|288\\.0|346\\.0|0\\.67|\n",
        "|3|victory|gemGrab|TARA|10\\.0|1028\\.0|Flooded Mine|54761\\.0|29761\\.0|1916\\.0|1163\\.0|288\\.0|282\\.67|1\\.33|\n",
        "|4|victory|gemGrab|TARA|10\\.0|1023\\.0|Flooded Mine|54761\\.0|29761\\.0|1916\\.0|1163\\.0|288\\.0|248\\.67|0\\.33|\n",
        "|5|victory|gemGrab|TARA|10\\.0|1018\\.0|Flooded Mine|54761\\.0|29761\\.0|1916\\.0|1163\\.0|288\\.0|239\\.33|0\\.33|\n",
        "|6|victory|gemGrab|TARA|10\\.0|1013\\.0|Flooded Mine|54761\\.0|29761\\.0|1916\\.0|1163\\.0|288\\.0|358\\.67|1\\.0|\n",
        "|7|victory|gemGrab|TARA|10\\.0|1008\\.0|Flooded Mine|54761\\.0|29761\\.0|1916\\.0|1163\\.0|288\\.0|394\\.0|0\\.0|\n",
        "|8|victory|gemGrab|TARA|10\\.0|1003\\.0|Flooded Mine|54761\\.0|29761\\.0|1916\\.0|1163\\.0|288\\.0|319\\.33|0\\.33|\n",
        "|9|defeat|gemGrab|PIPER|9\\.0|938\\.0|Flooded Mine|54761\\.0|29761\\.0|1916\\.0|1163\\.0|288\\.0|19\\.0|-0\\.33|"
      ],
      "metadata": {
        "id": "Qvn6Dt6pEmvo"
      }
    },
    {
      "cell_type": "markdown",
      "source": [
        "Features that were removed:\n",
        "\n",
        "map & brawler & mode : on their own they don't provide any information since the game is designed to be balanced. But some brawler works better on some maps, so we combine them with general statistics to create new feature, win_rate.\n",
        "\n",
        "solo_win, duo_win, 3v3_win: They count the number of wins in different modes, so only have meaning when comparison is made. They are combined to make team_win_ratio feature.\n",
        "\n",
        "power*: Our dataset have low variance in this feature. But this is not the case if we can extend our data to include amateur players."
      ],
      "metadata": {
        "id": "GhrIzLdGFCbn"
      }
    },
    {
      "cell_type": "markdown",
      "source": [
        "##Data Collection\n",
        "To use the wrapper, install its package and visite [Supercell API](https://developer.brawlstars.com) to create your auth token.\n",
        "\n",
        "It take ~30 mins to run code in this section and generate ~180k data entires."
      ],
      "metadata": {
        "id": "MLCG2--aEU3c"
      }
    },
    {
      "cell_type": "code",
      "execution_count": null,
      "metadata": {
        "id": "pzhbc_9ixUfX"
      },
      "outputs": [],
      "source": [
        "pip install brawlstats"
      ]
    },
    {
      "cell_type": "markdown",
      "metadata": {
        "id": "1H4JJUsbn3dz"
      },
      "source": [
        "\n",
        "Supercell API allows collection of the 25 most recent battle logs by inputting player tag(id). It also provides a list of the top 200 players in a region. \n",
        "So we will first generates a list of top players' tags, and fetch their recent battle logs as our data.\n",
        "\n"
      ]
    },
    {
      "cell_type": "code",
      "execution_count": null,
      "metadata": {
        "id": "SHXU4xwQiSKO"
      },
      "outputs": [],
      "source": [
        "import brawlstats\n",
        "# country code is needed to generate player list \n",
        "COUNTRY_CODE = [\"JP\", \"BR\", \"SG\", \"ES\",\"CN\", \"UK\", \"FR\",\"US\", \"RU\", \"IT\", \"CA\", \n",
        "        \"AT\", \"UA\", \"MD\",\"PR\", \"DK\", \"KR\", \"NO\", \"DE\", \"HK\", 'FI', \"MO\", \"SE\"]\n",
        "tags = []\n",
        "\n",
        "MY_TOKEN = # get your token from Supercell API website\n",
        "client = brawlstats.Client(MY_TOKEN)\n",
        "\n",
        "def createPlayerList():\n",
        "    \"\"\" Stores a list of player id into a list \n",
        "    \"\"\"\n",
        "    for code in COUNTRY_CODE:\n",
        "        players = client.get_rankings(ranking='players',region=code)\n",
        "        for player in players:\n",
        "                tags.append(player.tag)  "
      ]
    },
    {
      "cell_type": "code",
      "execution_count": null,
      "metadata": {
        "id": "v2P-wGGuyA-T"
      },
      "outputs": [],
      "source": [
        "createPlayerList() "
      ]
    },
    {
      "cell_type": "code",
      "execution_count": null,
      "metadata": {
        "id": "fISp_NmayF0x"
      },
      "outputs": [],
      "source": [
        "# the features API can provide\n",
        "# visite their website for full description \n",
        "\"\"\"\n",
        "player_col = ['trophies', 'power_play_points', 'exp_level', 'x3vs3_victories',\n",
        "              'solo_victories', 'duo_victories']\n",
        "battle_col = ['event.map','battle.mode', 'battle.rank', 'battle.teams']\n",
        "\n",
        "battle_data = pd.DataFrame(columns=['result','mode','brawler','power','b_trophies',\n",
        "                                    'map','p_trophies', '3v3_win',\n",
        "                                    'solo_win','duo_win','exp_level',\n",
        "                                    'trophy_difference', 'power_difference'])\n",
        "\"\"\""
      ]
    },
    {
      "cell_type": "markdown",
      "source": [
        "Two new features, *trophy difference* and *power difference* are created as we fetch data. They are derived from team information. Team info for each match is a list of 6 json objects, which can be time consuming to store and process separately. "
      ],
      "metadata": {
        "id": "mllKxMedQa5u"
      }
    },
    {
      "cell_type": "code",
      "execution_count": null,
      "metadata": {
        "id": "uybyUQME9ZNr"
      },
      "outputs": [],
      "source": [
        "def addPlayerProfile(player, my_log):\n",
        "    # add Player's profile to the log \n",
        "    my_log['p_trophies'] = player.trophies\n",
        "    my_log['solo_win'] = player.solo_victories\n",
        "    my_log['duo_win'] = player.duo_victories\n",
        "    my_log['3v3_win'] = player.x3vs3_victories\n",
        "    my_log['exp_level'] = player.exp_level\n",
        "    \n",
        "def addTeamInfo(teams, my_log):\n",
        "    team_trophies = [0,0]\n",
        "    team_power =[0,0]\n",
        "    marker = 0\n",
        "    for idx in [0,1]:\n",
        "      for member in teams[idx]:\n",
        "        team_trophies[idx] += member.brawler.trophies\n",
        "        team_power[idx] += member.brawler.power\n",
        "        if member.tag == tag:\n",
        "          my_log['brawler'] = member.brawler.name\n",
        "          my_log['b_trophies'] = member.brawler.trophies\n",
        "          my_log['power'] = member.brawler.power\n",
        "          marker = idx\n",
        "    my_log['trophy_difference'] = round(\n",
        "        (team_trophies[marker] - team_trophies[1-marker])/3.0, 2)\n",
        "    my_log['power_difference'] = round(\n",
        "        (team_power[marker] - team_power[1-marker])/3.0, 2)"
      ]
    },
    {
      "cell_type": "markdown",
      "metadata": {
        "id": "jB5Yg4AzpWbC"
      },
      "source": [
        "`NotFoundError` happens when a player's data is not available. We screen player tags and remove invalid ones before adding to our dataselt.\n",
        "\n",
        "Sometimes the error handling in the package does not work, be prepared to screen for invalid results before analysis.\n"
      ]
    },
    {
      "cell_type": "code",
      "execution_count": null,
      "metadata": {
        "id": "DsNndMqwh_BP"
      },
      "outputs": [],
      "source": [
        "from brawlstats.errors import NotFoundError\n",
        "for tag in tags:\n",
        "  try:\n",
        "    client.get_player(tag)\n",
        "  except NotFoundError:\n",
        "    tags.remove(tag)\n",
        "    print(tag)"
      ]
    },
    {
      "cell_type": "markdown",
      "metadata": {
        "id": "g2S7glP0-QX2"
      },
      "source": [
        "We will also remove battle logs of showdown and duel game mode, since they are not 3v3 team play and features different information."
      ]
    },
    {
      "cell_type": "code",
      "execution_count": null,
      "metadata": {
        "id": "fY4K0LoDzUPu"
      },
      "outputs": [],
      "source": [
        "for tag in tags:\n",
        "  try: \n",
        "      player = client.get_player(tag)\n",
        "      battles = client.get_battle_logs(tag)\n",
        "  except (KeyError, NotFoundError, IndexError): \n",
        "    pass\n",
        "  my_log = {}\n",
        "\n",
        "  for battle in battles:\n",
        "    try: \n",
        "      # duels are not filtered out, we will handle it in data cleaning\n",
        "      if battle.battle.type == 'ranked' and battle.battle.mode != (\n",
        "          'soloshowdown' or 'duoShowdown' or 'duels'):\n",
        "        my_log['result'] = battle.battle.result\n",
        "        my_log['map'] = battle.event.map\n",
        "        my_log['mode'] = battle.battle.mode\n",
        "\n",
        "        addPlayerProfile(player, my_log)\n",
        "\n",
        "        teams =  battle.battle.teams\n",
        "        addTeamInfo(teams, my_log)         \n",
        "    except (KeyError, NotFoundError, IndexError): \n",
        "      pass\n",
        "\n",
        "    battle_data = battle_data.append(my_log, ignore_index=True)"
      ]
    },
    {
      "cell_type": "markdown",
      "metadata": {
        "id": "yFzGGKitF3Lr"
      },
      "source": [
        "##Load Data\n",
        "Because battle logs are updated as a player plays more matches, it is a good idea to store the data you fetched everytime."
      ]
    },
    {
      "cell_type": "code",
      "execution_count": 128,
      "metadata": {
        "id": "NHar1R_dDjaW"
      },
      "outputs": [],
      "source": [
        "paths = ['/content/drive/MyDrive/Colab Notebooks/bsdata_0128.csv', '/content/drive/MyDrive/Colab Notebooks/bsdata_0212.csv'] # a list of strings of file path\n",
        "dfs = []\n",
        "for file in paths:\n",
        "  dfs.append(pd.read_csv(file, index_col = 0))"
      ]
    },
    {
      "cell_type": "code",
      "execution_count": 129,
      "metadata": {
        "id": "sUArBZfBlm_N",
        "colab": {
          "base_uri": "https://localhost:8080/",
          "height": 0
        },
        "outputId": "1f929869-98b7-45fa-b9fe-0d308116a88a"
      },
      "outputs": [
        {
          "output_type": "execute_result",
          "data": {
            "text/html": [
              "\n",
              "  <div id=\"df-b5cc5ce3-d7fa-4323-9b20-5bf75afa2646\">\n",
              "    <div class=\"colab-df-container\">\n",
              "      <div>\n",
              "<style scoped>\n",
              "    .dataframe tbody tr th:only-of-type {\n",
              "        vertical-align: middle;\n",
              "    }\n",
              "\n",
              "    .dataframe tbody tr th {\n",
              "        vertical-align: top;\n",
              "    }\n",
              "\n",
              "    .dataframe thead th {\n",
              "        text-align: right;\n",
              "    }\n",
              "</style>\n",
              "<table border=\"1\" class=\"dataframe\">\n",
              "  <thead>\n",
              "    <tr style=\"text-align: right;\">\n",
              "      <th></th>\n",
              "      <th>result</th>\n",
              "      <th>mode</th>\n",
              "      <th>brawler</th>\n",
              "      <th>power</th>\n",
              "      <th>b_trophies</th>\n",
              "      <th>map</th>\n",
              "      <th>p_trophies</th>\n",
              "      <th>3v3_win</th>\n",
              "      <th>solo_win</th>\n",
              "      <th>duo_win</th>\n",
              "      <th>exp_level</th>\n",
              "      <th>trophy_difference</th>\n",
              "      <th>power_difference</th>\n",
              "    </tr>\n",
              "  </thead>\n",
              "  <tbody>\n",
              "    <tr>\n",
              "      <th>0</th>\n",
              "      <td>victory</td>\n",
              "      <td>gemGrab</td>\n",
              "      <td>TARA</td>\n",
              "      <td>10.0</td>\n",
              "      <td>1043.0</td>\n",
              "      <td>Flooded Mine</td>\n",
              "      <td>54761.0</td>\n",
              "      <td>29761.0</td>\n",
              "      <td>1916.0</td>\n",
              "      <td>1163.0</td>\n",
              "      <td>288.0</td>\n",
              "      <td>340.67</td>\n",
              "      <td>0.00</td>\n",
              "    </tr>\n",
              "    <tr>\n",
              "      <th>1</th>\n",
              "      <td>victory</td>\n",
              "      <td>gemGrab</td>\n",
              "      <td>TARA</td>\n",
              "      <td>10.0</td>\n",
              "      <td>1038.0</td>\n",
              "      <td>Flooded Mine</td>\n",
              "      <td>54761.0</td>\n",
              "      <td>29761.0</td>\n",
              "      <td>1916.0</td>\n",
              "      <td>1163.0</td>\n",
              "      <td>288.0</td>\n",
              "      <td>367.33</td>\n",
              "      <td>1.33</td>\n",
              "    </tr>\n",
              "    <tr>\n",
              "      <th>2</th>\n",
              "      <td>victory</td>\n",
              "      <td>gemGrab</td>\n",
              "      <td>TARA</td>\n",
              "      <td>10.0</td>\n",
              "      <td>1033.0</td>\n",
              "      <td>Flooded Mine</td>\n",
              "      <td>54761.0</td>\n",
              "      <td>29761.0</td>\n",
              "      <td>1916.0</td>\n",
              "      <td>1163.0</td>\n",
              "      <td>288.0</td>\n",
              "      <td>346.00</td>\n",
              "      <td>0.67</td>\n",
              "    </tr>\n",
              "    <tr>\n",
              "      <th>3</th>\n",
              "      <td>victory</td>\n",
              "      <td>gemGrab</td>\n",
              "      <td>TARA</td>\n",
              "      <td>10.0</td>\n",
              "      <td>1028.0</td>\n",
              "      <td>Flooded Mine</td>\n",
              "      <td>54761.0</td>\n",
              "      <td>29761.0</td>\n",
              "      <td>1916.0</td>\n",
              "      <td>1163.0</td>\n",
              "      <td>288.0</td>\n",
              "      <td>282.67</td>\n",
              "      <td>1.33</td>\n",
              "    </tr>\n",
              "    <tr>\n",
              "      <th>4</th>\n",
              "      <td>victory</td>\n",
              "      <td>gemGrab</td>\n",
              "      <td>TARA</td>\n",
              "      <td>10.0</td>\n",
              "      <td>1023.0</td>\n",
              "      <td>Flooded Mine</td>\n",
              "      <td>54761.0</td>\n",
              "      <td>29761.0</td>\n",
              "      <td>1916.0</td>\n",
              "      <td>1163.0</td>\n",
              "      <td>288.0</td>\n",
              "      <td>248.67</td>\n",
              "      <td>0.33</td>\n",
              "    </tr>\n",
              "    <tr>\n",
              "      <th>5</th>\n",
              "      <td>victory</td>\n",
              "      <td>gemGrab</td>\n",
              "      <td>TARA</td>\n",
              "      <td>10.0</td>\n",
              "      <td>1018.0</td>\n",
              "      <td>Flooded Mine</td>\n",
              "      <td>54761.0</td>\n",
              "      <td>29761.0</td>\n",
              "      <td>1916.0</td>\n",
              "      <td>1163.0</td>\n",
              "      <td>288.0</td>\n",
              "      <td>239.33</td>\n",
              "      <td>0.33</td>\n",
              "    </tr>\n",
              "    <tr>\n",
              "      <th>6</th>\n",
              "      <td>victory</td>\n",
              "      <td>gemGrab</td>\n",
              "      <td>TARA</td>\n",
              "      <td>10.0</td>\n",
              "      <td>1013.0</td>\n",
              "      <td>Flooded Mine</td>\n",
              "      <td>54761.0</td>\n",
              "      <td>29761.0</td>\n",
              "      <td>1916.0</td>\n",
              "      <td>1163.0</td>\n",
              "      <td>288.0</td>\n",
              "      <td>358.67</td>\n",
              "      <td>1.00</td>\n",
              "    </tr>\n",
              "    <tr>\n",
              "      <th>7</th>\n",
              "      <td>victory</td>\n",
              "      <td>gemGrab</td>\n",
              "      <td>TARA</td>\n",
              "      <td>10.0</td>\n",
              "      <td>1008.0</td>\n",
              "      <td>Flooded Mine</td>\n",
              "      <td>54761.0</td>\n",
              "      <td>29761.0</td>\n",
              "      <td>1916.0</td>\n",
              "      <td>1163.0</td>\n",
              "      <td>288.0</td>\n",
              "      <td>394.00</td>\n",
              "      <td>0.00</td>\n",
              "    </tr>\n",
              "    <tr>\n",
              "      <th>8</th>\n",
              "      <td>victory</td>\n",
              "      <td>gemGrab</td>\n",
              "      <td>TARA</td>\n",
              "      <td>10.0</td>\n",
              "      <td>1003.0</td>\n",
              "      <td>Flooded Mine</td>\n",
              "      <td>54761.0</td>\n",
              "      <td>29761.0</td>\n",
              "      <td>1916.0</td>\n",
              "      <td>1163.0</td>\n",
              "      <td>288.0</td>\n",
              "      <td>319.33</td>\n",
              "      <td>0.33</td>\n",
              "    </tr>\n",
              "    <tr>\n",
              "      <th>9</th>\n",
              "      <td>defeat</td>\n",
              "      <td>gemGrab</td>\n",
              "      <td>PIPER</td>\n",
              "      <td>9.0</td>\n",
              "      <td>938.0</td>\n",
              "      <td>Flooded Mine</td>\n",
              "      <td>54761.0</td>\n",
              "      <td>29761.0</td>\n",
              "      <td>1916.0</td>\n",
              "      <td>1163.0</td>\n",
              "      <td>288.0</td>\n",
              "      <td>19.00</td>\n",
              "      <td>-0.33</td>\n",
              "    </tr>\n",
              "  </tbody>\n",
              "</table>\n",
              "</div>\n",
              "      <button class=\"colab-df-convert\" onclick=\"convertToInteractive('df-b5cc5ce3-d7fa-4323-9b20-5bf75afa2646')\"\n",
              "              title=\"Convert this dataframe to an interactive table.\"\n",
              "              style=\"display:none;\">\n",
              "        \n",
              "  <svg xmlns=\"http://www.w3.org/2000/svg\" height=\"24px\"viewBox=\"0 0 24 24\"\n",
              "       width=\"24px\">\n",
              "    <path d=\"M0 0h24v24H0V0z\" fill=\"none\"/>\n",
              "    <path d=\"M18.56 5.44l.94 2.06.94-2.06 2.06-.94-2.06-.94-.94-2.06-.94 2.06-2.06.94zm-11 1L8.5 8.5l.94-2.06 2.06-.94-2.06-.94L8.5 2.5l-.94 2.06-2.06.94zm10 10l.94 2.06.94-2.06 2.06-.94-2.06-.94-.94-2.06-.94 2.06-2.06.94z\"/><path d=\"M17.41 7.96l-1.37-1.37c-.4-.4-.92-.59-1.43-.59-.52 0-1.04.2-1.43.59L10.3 9.45l-7.72 7.72c-.78.78-.78 2.05 0 2.83L4 21.41c.39.39.9.59 1.41.59.51 0 1.02-.2 1.41-.59l7.78-7.78 2.81-2.81c.8-.78.8-2.07 0-2.86zM5.41 20L4 18.59l7.72-7.72 1.47 1.35L5.41 20z\"/>\n",
              "  </svg>\n",
              "      </button>\n",
              "      \n",
              "  <style>\n",
              "    .colab-df-container {\n",
              "      display:flex;\n",
              "      flex-wrap:wrap;\n",
              "      gap: 12px;\n",
              "    }\n",
              "\n",
              "    .colab-df-convert {\n",
              "      background-color: #E8F0FE;\n",
              "      border: none;\n",
              "      border-radius: 50%;\n",
              "      cursor: pointer;\n",
              "      display: none;\n",
              "      fill: #1967D2;\n",
              "      height: 32px;\n",
              "      padding: 0 0 0 0;\n",
              "      width: 32px;\n",
              "    }\n",
              "\n",
              "    .colab-df-convert:hover {\n",
              "      background-color: #E2EBFA;\n",
              "      box-shadow: 0px 1px 2px rgba(60, 64, 67, 0.3), 0px 1px 3px 1px rgba(60, 64, 67, 0.15);\n",
              "      fill: #174EA6;\n",
              "    }\n",
              "\n",
              "    [theme=dark] .colab-df-convert {\n",
              "      background-color: #3B4455;\n",
              "      fill: #D2E3FC;\n",
              "    }\n",
              "\n",
              "    [theme=dark] .colab-df-convert:hover {\n",
              "      background-color: #434B5C;\n",
              "      box-shadow: 0px 1px 3px 1px rgba(0, 0, 0, 0.15);\n",
              "      filter: drop-shadow(0px 1px 2px rgba(0, 0, 0, 0.3));\n",
              "      fill: #FFFFFF;\n",
              "    }\n",
              "  </style>\n",
              "\n",
              "      <script>\n",
              "        const buttonEl =\n",
              "          document.querySelector('#df-b5cc5ce3-d7fa-4323-9b20-5bf75afa2646 button.colab-df-convert');\n",
              "        buttonEl.style.display =\n",
              "          google.colab.kernel.accessAllowed ? 'block' : 'none';\n",
              "\n",
              "        async function convertToInteractive(key) {\n",
              "          const element = document.querySelector('#df-b5cc5ce3-d7fa-4323-9b20-5bf75afa2646');\n",
              "          const dataTable =\n",
              "            await google.colab.kernel.invokeFunction('convertToInteractive',\n",
              "                                                     [key], {});\n",
              "          if (!dataTable) return;\n",
              "\n",
              "          const docLinkHtml = 'Like what you see? Visit the ' +\n",
              "            '<a target=\"_blank\" href=https://colab.research.google.com/notebooks/data_table.ipynb>data table notebook</a>'\n",
              "            + ' to learn more about interactive tables.';\n",
              "          element.innerHTML = '';\n",
              "          dataTable['output_type'] = 'display_data';\n",
              "          await google.colab.output.renderOutput(dataTable, element);\n",
              "          const docLink = document.createElement('div');\n",
              "          docLink.innerHTML = docLinkHtml;\n",
              "          element.appendChild(docLink);\n",
              "        }\n",
              "      </script>\n",
              "    </div>\n",
              "  </div>\n",
              "  "
            ],
            "text/plain": [
              "    result     mode brawler  ...  exp_level  trophy_difference power_difference\n",
              "0  victory  gemGrab    TARA  ...      288.0             340.67             0.00\n",
              "1  victory  gemGrab    TARA  ...      288.0             367.33             1.33\n",
              "2  victory  gemGrab    TARA  ...      288.0             346.00             0.67\n",
              "3  victory  gemGrab    TARA  ...      288.0             282.67             1.33\n",
              "4  victory  gemGrab    TARA  ...      288.0             248.67             0.33\n",
              "5  victory  gemGrab    TARA  ...      288.0             239.33             0.33\n",
              "6  victory  gemGrab    TARA  ...      288.0             358.67             1.00\n",
              "7  victory  gemGrab    TARA  ...      288.0             394.00             0.00\n",
              "8  victory  gemGrab    TARA  ...      288.0             319.33             0.33\n",
              "9   defeat  gemGrab   PIPER  ...      288.0              19.00            -0.33\n",
              "\n",
              "[10 rows x 13 columns]"
            ]
          },
          "metadata": {},
          "execution_count": 129
        }
      ],
      "source": [
        "# merge the data files\n",
        "battle_data = pd.concat(dfs)\n",
        "battle_data.head(10)"
      ]
    },
    {
      "cell_type": "markdown",
      "metadata": {
        "id": "Yw_ldfh5BsrB"
      },
      "source": [
        "Below code to stores dataframe in google drive. Run it each time after you fetched new data. \n",
        "\n"
      ]
    },
    {
      "cell_type": "code",
      "execution_count": 130,
      "metadata": {
        "id": "67Ed_c3dBtiJ"
      },
      "outputs": [],
      "source": [
        "# from google.colab import drive\n",
        "\n",
        "# drive.mount('/content/drive')\n",
        "# path = '/content/drive/MyDrive/Colab Notebooks/bsdata_{}.csv'.format('0212')\n",
        "\n",
        "# with open(path, 'w', encoding = 'utf-8-sig') as f:\n",
        "#  battle_data.to_csv(f)\n"
      ]
    },
    {
      "cell_type": "markdown",
      "metadata": {
        "id": "QEI3WvyS_PBQ"
      },
      "source": [
        "##Data Cleaning"
      ]
    },
    {
      "cell_type": "markdown",
      "source": [
        "Note: There is no easy way to filter duplicated battle logs, which can occurr when \n",
        "1. A player haven't had 25+ new games between data collections.\n",
        "2. Same match recorded from multiple players.\n",
        "\n",
        "Our data are from the top players in each region, so it is unlikely that a player is inactive. You may want to handle this issue when using amateur players data collected frequently.\n",
        "\n",
        "The 2nd case is rare. Since different regions does not use the same server, the number of duplicated matches is small. I checked 2500 entries and found only 1 match appeared multiple times. \n",
        "\n",
        "It is possible to use battle-time and team info to filter out duplicated battles, but is extremely time cosuming."
      ],
      "metadata": {
        "id": "ROkchjC6XWIi"
      }
    },
    {
      "cell_type": "markdown",
      "source": [
        "### Missing Values"
      ],
      "metadata": {
        "id": "QxOlNKKiYDAI"
      }
    },
    {
      "cell_type": "code",
      "execution_count": 131,
      "metadata": {
        "id": "m55QkkMWq1kc",
        "colab": {
          "base_uri": "https://localhost:8080/"
        },
        "outputId": "a16a87be-5e57-4a18-f637-376f624c31af"
      },
      "outputs": [
        {
          "output_type": "stream",
          "name": "stdout",
          "text": [
            "result 0\n",
            "mode 0\n",
            "brawler 2488\n",
            "power 2488\n",
            "b_trophies 2488\n",
            "map 18247\n",
            "p_trophies 0\n",
            "3v3_win 0\n",
            "solo_win 0\n",
            "duo_win 0\n",
            "exp_level 0\n",
            "trophy_difference 2488\n",
            "power_difference 2488\n"
          ]
        }
      ],
      "source": [
        "# screen for nan\n",
        "for col in battle_data.columns:\n",
        "  print(col, battle_data[col].isnull().sum())"
      ]
    },
    {
      "cell_type": "markdown",
      "metadata": {
        "id": "9t8VkI7jsNvD"
      },
      "source": [
        "All the NAs except from map come from duels. They are not screened out for some reason, causing invalid inputs. Just drop since duel results are nor out interest."
      ]
    },
    {
      "cell_type": "code",
      "source": [
        "battle_data.drop(battle_data[battle_data['mode']=='duels'].index, inplace = True)"
      ],
      "metadata": {
        "id": "F68cRWCd5C7M"
      },
      "execution_count": 132,
      "outputs": []
    },
    {
      "cell_type": "markdown",
      "metadata": {
        "id": "eiMj0ghDskmA"
      },
      "source": [
        "Map information is missing for a small number of battle logs, we will fill in missing values with the mod according to the battle game mode."
      ]
    },
    {
      "cell_type": "code",
      "execution_count": 133,
      "metadata": {
        "colab": {
          "base_uri": "https://localhost:8080/"
        },
        "id": "cIRLbNg6tTfb",
        "outputId": "5b21b838-5aa9-409e-c6b4-d65fc917fd1d"
      },
      "outputs": [
        {
          "output_type": "execute_result",
          "data": {
            "text/plain": [
              "array(['siege', 'knockout', 'hotZone', 'heist', 'gemGrab', 'brawlBall',\n",
              "       'bounty'], dtype=object)"
            ]
          },
          "metadata": {},
          "execution_count": 133
        }
      ],
      "source": [
        "# find the mod for each mode\n",
        "temp = battle_data[['mode','map']].groupby(\n",
        "    ['mode', 'map'], as_index = False).size().sort_values(\n",
        "    by = ['mode', 'size'], ascending=False)\n",
        "temp = temp.drop_duplicates('mode')\n",
        "temp['mode'].values"
      ]
    },
    {
      "cell_type": "code",
      "execution_count": 134,
      "metadata": {
        "id": "1ePrG0w0wMI5"
      },
      "outputs": [],
      "source": [
        "# fill missing value with mod\n",
        "mode_map = {mode: map for mode, map in zip(temp['mode'], temp['map'])}\n",
        "battle_data['map'] = battle_data['map'].fillna(battle_data['mode'].map(mode_map))"
      ]
    },
    {
      "cell_type": "code",
      "execution_count": 135,
      "metadata": {
        "colab": {
          "base_uri": "https://localhost:8080/"
        },
        "outputId": "928e6bb1-b3c6-4dc0-e6b2-88837d549206",
        "id": "zPXSI2BmDOrd"
      },
      "outputs": [
        {
          "output_type": "stream",
          "name": "stdout",
          "text": [
            "result 0\n",
            "mode 0\n",
            "brawler 0\n",
            "power 0\n",
            "b_trophies 0\n",
            "map 0\n",
            "p_trophies 0\n",
            "3v3_win 0\n",
            "solo_win 0\n",
            "duo_win 0\n",
            "exp_level 0\n",
            "trophy_difference 0\n",
            "power_difference 0\n"
          ]
        }
      ],
      "source": [
        "# all Na removed\n",
        "for col in battle_data.columns:\n",
        "  print(col, battle_data[col].isnull().sum())"
      ]
    },
    {
      "cell_type": "markdown",
      "source": [
        "###Skip\n",
        "to modelling section "
      ],
      "metadata": {
        "id": "6_YSfTeJICmz"
      }
    },
    {
      "cell_type": "code",
      "execution_count": 136,
      "metadata": {
        "id": "Lp_axryOIBbN"
      },
      "outputs": [],
      "source": [
        "# This block of code yields same result as codes in data cleaning, \n",
        "#   run to skip analysis and cleaning section \n",
        "\n",
        "train, test = train_test_split(battle_data, test_size = 0.3)\n",
        "train.head()\n",
        "\n",
        "train = train[train.result != 'draw']\n",
        "test = test[test.result != 'draw']\n",
        "train['result'] = train['result'].map({'victory': 1, 'defeat': 0 }).astype(int)\n",
        "test['result'] = test['result'].map({'victory': 1, 'defeat': 0 }).astype(int)\n",
        "\n",
        "test.drop(['solo_win', 'duo_win', '3v3_win'], inplace=True, axis = 1)\n",
        "train.drop(['solo_win', 'duo_win', '3v3_win'], inplace=True, axis = 1)\n",
        "\n",
        "test.drop(['mode', 'map', 'brawler'], inplace=True, axis = 1)\n",
        "train.drop(['mode', 'map', 'brawler'], inplace=True, axis = 1)\n"
      ]
    },
    {
      "cell_type": "markdown",
      "metadata": {
        "id": "hnvrsaufcd-1"
      },
      "source": [
        "#Exploretory Analysis"
      ]
    },
    {
      "cell_type": "code",
      "source": [
        "# use only train set for analysis to prevent leakage \n",
        "train, test = train_test_split(battle_data, test_size = 0.3)\n",
        "train.info()"
      ],
      "metadata": {
        "colab": {
          "base_uri": "https://localhost:8080/"
        },
        "id": "1F9XCGuuHIWJ",
        "outputId": "48885583-2bbb-4db0-bc3b-92262ffd3dc8"
      },
      "execution_count": 137,
      "outputs": [
        {
          "output_type": "stream",
          "name": "stdout",
          "text": [
            "<class 'pandas.core.frame.DataFrame'>\n",
            "Int64Index: 138926 entries, 154094 to 31208\n",
            "Data columns (total 13 columns):\n",
            " #   Column             Non-Null Count   Dtype  \n",
            "---  ------             --------------   -----  \n",
            " 0   result             138926 non-null  object \n",
            " 1   mode               138926 non-null  object \n",
            " 2   brawler            138926 non-null  object \n",
            " 3   power              138926 non-null  float64\n",
            " 4   b_trophies         138926 non-null  float64\n",
            " 5   map                138926 non-null  object \n",
            " 6   p_trophies         138926 non-null  float64\n",
            " 7   3v3_win            138926 non-null  float64\n",
            " 8   solo_win           138926 non-null  float64\n",
            " 9   duo_win            138926 non-null  float64\n",
            " 10  exp_level          138926 non-null  float64\n",
            " 11  trophy_difference  138926 non-null  float64\n",
            " 12  power_difference   138926 non-null  float64\n",
            "dtypes: float64(9), object(4)\n",
            "memory usage: 14.8+ MB\n"
          ]
        }
      ]
    },
    {
      "cell_type": "markdown",
      "metadata": {
        "id": "tuHVj1272Hpy"
      },
      "source": [
        "###Mutual Information\n",
        "Most of our features has a low mi score, which is expected. Our goal is to predict a match result, which involves two teams, so a stand alone statistic should have little meaning."
      ]
    },
    {
      "cell_type": "code",
      "execution_count": 201,
      "metadata": {
        "colab": {
          "base_uri": "https://localhost:8080/"
        },
        "id": "yn1KFgYIxDru",
        "outputId": "ac179a50-fe68-4a82-e149-f3a50cdfd5d4"
      },
      "outputs": [
        {
          "output_type": "execute_result",
          "data": {
            "text/plain": [
              "p_trophies           0.108978\n",
              "trophy_difference    0.041387\n",
              "win_rate             0.038018\n",
              "b_trophies           0.033516\n",
              "team_win_ratio       0.017416\n",
              "power_difference     0.011994\n",
              "exp_level            0.006742\n",
              "power                0.006476\n",
              "Name: MI Scores, dtype: float64"
            ]
          },
          "metadata": {},
          "execution_count": 201
        }
      ],
      "source": [
        "# run this after you ran data cleaning\n",
        "# i put it up here just because it gives general info \n",
        "from sklearn.feature_selection import mutual_info_regression\n",
        "y = train.result\n",
        "X = train.drop(\"result\", axis = 1)\n",
        "\n",
        "def make_mi_scores(X, y):\n",
        "    mi_scores = mutual_info_regression(X, y)\n",
        "    mi_scores = pd.Series(mi_scores, name=\"MI Scores\", index=X.columns)\n",
        "    mi_scores = mi_scores.sort_values(ascending=False)\n",
        "    return mi_scores\n",
        "\n",
        "mi_scores = make_mi_scores(X, y)\n",
        "mi_scores"
      ]
    },
    {
      "cell_type": "markdown",
      "metadata": {
        "id": "tRePyFmxpkbc"
      },
      "source": [
        "##Power and Trophy difference\n",
        "Power reflects the strength of brawlers used. A higher power means that the brawler has better stats.\\\n",
        "Trophy measures the how experienced the player is with the chosen brawler. \\\n",
        "We measures the difference between the average trophy/power of each team.\\\n",
        "We want to test the assumption that **a positive power and trophy difference leads to winning.**"
      ]
    },
    {
      "cell_type": "markdown",
      "metadata": {
        "id": "s7K8yKDXqJ5I"
      },
      "source": [
        "###Trends\n",
        "Battles with victory features a higher trophy and power difference. The graphy supports our assumption, so we will **keep** both features. \n",
        "We will not remove outliers in power difference because the power does not influence game matching, having extreme differences is common in BS battles. "
      ]
    },
    {
      "cell_type": "code",
      "execution_count": 121,
      "metadata": {
        "colab": {
          "base_uri": "https://localhost:8080/",
          "height": 300
        },
        "id": "paKTiMrjcnEn",
        "outputId": "5e30b6b8-0e84-4c19-c3e4-05b160b08b9f"
      },
      "outputs": [
        {
          "output_type": "execute_result",
          "data": {
            "text/plain": [
              "[(-100.0, 200.0)]"
            ]
          },
          "metadata": {},
          "execution_count": 121
        },
        {
          "output_type": "display_data",
          "data": {
            "image/png": "[encoded data removed]",
            "text/plain": [
              "<Figure size 432x288 with 2 Axes>"
            ]
          },
          "metadata": {
            "needs_background": "light"
          }
        }
      ],
      "source": [
        "fig, ax = plt.subplots(1,2)\n",
        "sns.boxplot(data = train, x = 'result', y = 'power_difference', ax = ax[0]).set(ylim=(-2,3))\n",
        "sns.boxplot(data = train, x = 'result', y = 'trophy_difference', ax = ax[1]).set(ylim=(-100,200))"
      ]
    },
    {
      "cell_type": "markdown",
      "source": [
        "###Power\n",
        "\n",
        "In this dataset, power is not very important. It has low feature importance score in DT and RF. Also, there is a minor improvement(< .2%) on model performance when we remove it. \n",
        "\n",
        "However, we should take into consideration that our data only include top players, who generally has high power brawlers. So lack of variance in power in our dataset could led to our result. \n",
        "\n",
        "Judeging from my gaming experience, in a more representative sample, power can be important."
      ],
      "metadata": {
        "id": "B4Wr3qZqKFF2"
      }
    },
    {
      "cell_type": "code",
      "source": [
        "# dataset with power removed\n",
        "#train_no_pow = train.drop('power', axis=1)\n",
        "#test_no_pow = test.drop('power', axis=1)"
      ],
      "metadata": {
        "id": "-5nj7KT9ITaw"
      },
      "execution_count": null,
      "outputs": []
    },
    {
      "cell_type": "markdown",
      "metadata": {
        "id": "27LobrDdq7-J"
      },
      "source": [
        "## Brawler, map, mode\n",
        "As mentioned earlier, these features are used to add general statistics to battle logs. As both teams plays the same mode on the same map in each battle, these should be independent of the game result."
      ]
    },
    {
      "cell_type": "code",
      "execution_count": 124,
      "metadata": {
        "id": "qMqhG_UlrNFL"
      },
      "outputs": [],
      "source": [
        "indep = ['brawler', 'mode', 'map']"
      ]
    },
    {
      "cell_type": "markdown",
      "metadata": {
        "id": "3k6tY95Av89-"
      },
      "source": [
        "`catplot` allows comparison of distribution of a categorical feature `param: x` across a catagorical feature `param: col`.\\\n",
        "We can see that the distribution of these features are similar for win, lose, draw. \n",
        "\n",
        "One brawler(FANG) has higher victory counts than defeat count, because it was newly released. When player uses a new brawler, you get matched to lower trophy matches, which are easy for top players to win. Also Supercell made new brawlers \"more powerful\" to get people to buy them.\n",
        "\n",
        "Having imbalance in games is unavoidable, so I will not exclude this bralwer's data(also we lose a large number of data removing it.)"
      ]
    },
    {
      "cell_type": "code",
      "execution_count": 125,
      "metadata": {
        "colab": {
          "base_uri": "https://localhost:8080/",
          "height": 1000
        },
        "id": "0PeCVgbPspWV",
        "outputId": "10d99c88-1873-498a-efbe-33f5a34da404"
      },
      "outputs": [
        {
          "output_type": "display_data",
          "data": {
            "image/png": "[encoded data removed]",
            "text/plain": [
              "<Figure size 1080x360 with 3 Axes>"
            ]
          },
          "metadata": {
            "needs_background": "light"
          }
        },
        {
          "output_type": "display_data",
          "data": {
            "image/png": "[encoded data removed]",
            "text/plain": [
              "<Figure size 1080x360 with 3 Axes>"
            ]
          },
          "metadata": {
            "needs_background": "light"
          }
        },
        {
          "output_type": "display_data",
          "data": {
            "image/png": "[encoded data removed]",
            "text/plain": [
              "<Figure size 1080x360 with 3 Axes>"
            ]
          },
          "metadata": {
            "needs_background": "light"
          }
        }
      ],
      "source": [
        "for i in range(0,3):\n",
        "  sns.catplot(data = train, x = indep[i], col = 'result', \n",
        "              kind = 'count').set(xticklabels=[])"
      ]
    },
    {
      "cell_type": "markdown",
      "metadata": {
        "id": "EGYvqY3Y_ssG"
      },
      "source": [
        "###Adding Features from General Statistics. \n",
        "Brawler, map and mode themselves does not contain valuable predicative information. However, certain brawlers perform better on particular modes and maps. So the combination of the two features can be a good predicative feature.\\\n",
        "We acquire the general stats of brawler's win rate sorted by maps from *Brawl Time Ninja*, and add this information to each battle (This data is updated regularly, visite the site to download the latest.)\\\n",
        "Then we will drop brawler and map columns."
      ]
    },
    {
      "cell_type": "code",
      "execution_count": 140,
      "metadata": {
        "id": "9YQr19Gxe9w6"
      },
      "outputs": [],
      "source": [
        "from pandas.io.parsers import read_csv\n",
        "path = '/content/drive/MyDrive/Colab Notebooks/brawler_map_winrate.csv'\n",
        "b_map_win = pd.read_csv(path, index_col=False)\n",
        "# match the col name to our battle_data to make merge easy\n",
        "b_map_win.rename(columns={'Map':'map','Brawler':'brawler'}, inplace = True)"
      ]
    },
    {
      "cell_type": "code",
      "execution_count": 142,
      "metadata": {
        "id": "vNKn0m_KfRvF"
      },
      "outputs": [],
      "source": [
        "# merge with battle log data\n",
        "train = pd.merge(train, b_map_win, on = ['brawler', 'map'])\n",
        "train.rename(columns={'Adjusted Win Rate': 'win_rate'}, inplace=True)\n",
        "\n",
        "test = pd.merge(test, b_map_win, on = ['brawler', 'map'])\n",
        "test.rename(columns={'Adjusted Win Rate': 'win_rate'}, inplace=True)"
      ]
    },
    {
      "cell_type": "code",
      "execution_count": 143,
      "metadata": {
        "id": "oLckw_Q14OI5"
      },
      "outputs": [],
      "source": [
        "# drop mode and map\n",
        "train.drop(['mode', 'map', 'brawler'], inplace=True, axis = 1)\n",
        "test.drop(['mode', 'map', 'brawler'], inplace=True, axis = 1)"
      ]
    },
    {
      "cell_type": "markdown",
      "metadata": {
        "id": "6-jynVyYcv01"
      },
      "source": [
        "Hypothesis to test: \n",
        "- teams with a positive trophy and power difference (having higher power/trophy than opponent) are more likely to win.\n",
        "- Using brawler that has higher win rate on a chosen map is more likly to win.\n",
        "- Player with higher team play to showdown ration(plays team battles more often) is more likly to win.\n",
        " "
      ]
    },
    {
      "cell_type": "markdown",
      "metadata": {
        "id": "e73YBAPtd8jr"
      },
      "source": [
        "Split the data to prevent data leakage. You don't want information of your testing set to influence your analysis.\\\n",
        "Join them later when engineering features."
      ]
    },
    {
      "cell_type": "code",
      "execution_count": 66,
      "metadata": {
        "id": "9Ea9BfTiePPD"
      },
      "outputs": [],
      "source": [
        "train, test = train_test_split(battle_data, test_size = 0.3)"
      ]
    },
    {
      "cell_type": "code",
      "source": [
        "train.info()\n",
        "# map, result, brawler, mode are categorical vairables "
      ],
      "metadata": {
        "colab": {
          "base_uri": "https://localhost:8080/"
        },
        "id": "xPkHXpmK0Xd5",
        "outputId": "848c4d09-f54a-4c86-cfec-36447707ca60"
      },
      "execution_count": 76,
      "outputs": [
        {
          "output_type": "stream",
          "name": "stdout",
          "text": [
            "<class 'pandas.core.frame.DataFrame'>\n",
            "Int64Index: 135599 entries, 63715 to 99906\n",
            "Data columns (total 11 columns):\n",
            " #   Column             Non-Null Count   Dtype  \n",
            "---  ------             --------------   -----  \n",
            " 0   result             135599 non-null  object \n",
            " 1   power              135599 non-null  float64\n",
            " 2   b_trophies         135599 non-null  float64\n",
            " 3   p_trophies         135599 non-null  float64\n",
            " 4   3v3_win            135599 non-null  float64\n",
            " 5   solo_win           135599 non-null  float64\n",
            " 6   duo_win            135599 non-null  float64\n",
            " 7   exp_level          135599 non-null  float64\n",
            " 8   trophy_difference  135599 non-null  float64\n",
            " 9   power_difference   135599 non-null  float64\n",
            " 10  win_rate           135599 non-null  float64\n",
            "dtypes: float64(10), object(1)\n",
            "memory usage: 16.4+ MB\n"
          ]
        }
      ]
    },
    {
      "cell_type": "markdown",
      "source": [
        "Our data contains more wins than loses. This can be a potential issue for some models. Our final models are Tree Models, so imbalanced class is not an issue. \n",
        "\n",
        "*I also ran a test using a balanced testing set and verified that my model was not gussing 60% true.*"
      ],
      "metadata": {
        "id": "HdKigrz8YrWQ"
      }
    },
    {
      "cell_type": "code",
      "execution_count": 68,
      "metadata": {
        "colab": {
          "base_uri": "https://localhost:8080/",
          "height": 175
        },
        "id": "7Y9Xv6rR2iwM",
        "outputId": "c9f0b5fd-c0bd-4928-9f02-e6bedeb4a77a"
      },
      "outputs": [
        {
          "output_type": "execute_result",
          "data": {
            "text/html": [
              "\n",
              "  <div id=\"df-5e128b13-4aaf-45fb-95a0-1bd3ff498078\">\n",
              "    <div class=\"colab-df-container\">\n",
              "      <div>\n",
              "<style scoped>\n",
              "    .dataframe tbody tr th:only-of-type {\n",
              "        vertical-align: middle;\n",
              "    }\n",
              "\n",
              "    .dataframe tbody tr th {\n",
              "        vertical-align: top;\n",
              "    }\n",
              "\n",
              "    .dataframe thead th {\n",
              "        text-align: right;\n",
              "    }\n",
              "</style>\n",
              "<table border=\"1\" class=\"dataframe\">\n",
              "  <thead>\n",
              "    <tr style=\"text-align: right;\">\n",
              "      <th></th>\n",
              "      <th>power</th>\n",
              "      <th>b_trophies</th>\n",
              "      <th>p_trophies</th>\n",
              "      <th>3v3_win</th>\n",
              "      <th>solo_win</th>\n",
              "      <th>duo_win</th>\n",
              "      <th>exp_level</th>\n",
              "      <th>trophy_difference</th>\n",
              "      <th>power_difference</th>\n",
              "      <th>win_rate</th>\n",
              "    </tr>\n",
              "    <tr>\n",
              "      <th>result</th>\n",
              "      <th></th>\n",
              "      <th></th>\n",
              "      <th></th>\n",
              "      <th></th>\n",
              "      <th></th>\n",
              "      <th></th>\n",
              "      <th></th>\n",
              "      <th></th>\n",
              "      <th></th>\n",
              "      <th></th>\n",
              "    </tr>\n",
              "  </thead>\n",
              "  <tbody>\n",
              "    <tr>\n",
              "      <th>defeat</th>\n",
              "      <td>56630</td>\n",
              "      <td>56630</td>\n",
              "      <td>56630</td>\n",
              "      <td>56630</td>\n",
              "      <td>56630</td>\n",
              "      <td>56630</td>\n",
              "      <td>56630</td>\n",
              "      <td>56630</td>\n",
              "      <td>56630</td>\n",
              "      <td>56630</td>\n",
              "    </tr>\n",
              "    <tr>\n",
              "      <th>draw</th>\n",
              "      <td>724</td>\n",
              "      <td>724</td>\n",
              "      <td>724</td>\n",
              "      <td>724</td>\n",
              "      <td>724</td>\n",
              "      <td>724</td>\n",
              "      <td>724</td>\n",
              "      <td>724</td>\n",
              "      <td>724</td>\n",
              "      <td>724</td>\n",
              "    </tr>\n",
              "    <tr>\n",
              "      <th>victory</th>\n",
              "      <td>78245</td>\n",
              "      <td>78245</td>\n",
              "      <td>78245</td>\n",
              "      <td>78245</td>\n",
              "      <td>78245</td>\n",
              "      <td>78245</td>\n",
              "      <td>78245</td>\n",
              "      <td>78245</td>\n",
              "      <td>78245</td>\n",
              "      <td>78245</td>\n",
              "    </tr>\n",
              "  </tbody>\n",
              "</table>\n",
              "</div>\n",
              "      <button class=\"colab-df-convert\" onclick=\"convertToInteractive('df-5e128b13-4aaf-45fb-95a0-1bd3ff498078')\"\n",
              "              title=\"Convert this dataframe to an interactive table.\"\n",
              "              style=\"display:none;\">\n",
              "        \n",
              "  <svg xmlns=\"http://www.w3.org/2000/svg\" height=\"24px\"viewBox=\"0 0 24 24\"\n",
              "       width=\"24px\">\n",
              "    <path d=\"M0 0h24v24H0V0z\" fill=\"none\"/>\n",
              "    <path d=\"M18.56 5.44l.94 2.06.94-2.06 2.06-.94-2.06-.94-.94-2.06-.94 2.06-2.06.94zm-11 1L8.5 8.5l.94-2.06 2.06-.94-2.06-.94L8.5 2.5l-.94 2.06-2.06.94zm10 10l.94 2.06.94-2.06 2.06-.94-2.06-.94-.94-2.06-.94 2.06-2.06.94z\"/><path d=\"M17.41 7.96l-1.37-1.37c-.4-.4-.92-.59-1.43-.59-.52 0-1.04.2-1.43.59L10.3 9.45l-7.72 7.72c-.78.78-.78 2.05 0 2.83L4 21.41c.39.39.9.59 1.41.59.51 0 1.02-.2 1.41-.59l7.78-7.78 2.81-2.81c.8-.78.8-2.07 0-2.86zM5.41 20L4 18.59l7.72-7.72 1.47 1.35L5.41 20z\"/>\n",
              "  </svg>\n",
              "      </button>\n",
              "      \n",
              "  <style>\n",
              "    .colab-df-container {\n",
              "      display:flex;\n",
              "      flex-wrap:wrap;\n",
              "      gap: 12px;\n",
              "    }\n",
              "\n",
              "    .colab-df-convert {\n",
              "      background-color: #E8F0FE;\n",
              "      border: none;\n",
              "      border-radius: 50%;\n",
              "      cursor: pointer;\n",
              "      display: none;\n",
              "      fill: #1967D2;\n",
              "      height: 32px;\n",
              "      padding: 0 0 0 0;\n",
              "      width: 32px;\n",
              "    }\n",
              "\n",
              "    .colab-df-convert:hover {\n",
              "      background-color: #E2EBFA;\n",
              "      box-shadow: 0px 1px 2px rgba(60, 64, 67, 0.3), 0px 1px 3px 1px rgba(60, 64, 67, 0.15);\n",
              "      fill: #174EA6;\n",
              "    }\n",
              "\n",
              "    [theme=dark] .colab-df-convert {\n",
              "      background-color: #3B4455;\n",
              "      fill: #D2E3FC;\n",
              "    }\n",
              "\n",
              "    [theme=dark] .colab-df-convert:hover {\n",
              "      background-color: #434B5C;\n",
              "      box-shadow: 0px 1px 3px 1px rgba(0, 0, 0, 0.15);\n",
              "      filter: drop-shadow(0px 1px 2px rgba(0, 0, 0, 0.3));\n",
              "      fill: #FFFFFF;\n",
              "    }\n",
              "  </style>\n",
              "\n",
              "      <script>\n",
              "        const buttonEl =\n",
              "          document.querySelector('#df-5e128b13-4aaf-45fb-95a0-1bd3ff498078 button.colab-df-convert');\n",
              "        buttonEl.style.display =\n",
              "          google.colab.kernel.accessAllowed ? 'block' : 'none';\n",
              "\n",
              "        async function convertToInteractive(key) {\n",
              "          const element = document.querySelector('#df-5e128b13-4aaf-45fb-95a0-1bd3ff498078');\n",
              "          const dataTable =\n",
              "            await google.colab.kernel.invokeFunction('convertToInteractive',\n",
              "                                                     [key], {});\n",
              "          if (!dataTable) return;\n",
              "\n",
              "          const docLinkHtml = 'Like what you see? Visit the ' +\n",
              "            '<a target=\"_blank\" href=https://colab.research.google.com/notebooks/data_table.ipynb>data table notebook</a>'\n",
              "            + ' to learn more about interactive tables.';\n",
              "          element.innerHTML = '';\n",
              "          dataTable['output_type'] = 'display_data';\n",
              "          await google.colab.output.renderOutput(dataTable, element);\n",
              "          const docLink = document.createElement('div');\n",
              "          docLink.innerHTML = docLinkHtml;\n",
              "          element.appendChild(docLink);\n",
              "        }\n",
              "      </script>\n",
              "    </div>\n",
              "  </div>\n",
              "  "
            ],
            "text/plain": [
              "         power  b_trophies  ...  power_difference  win_rate\n",
              "result                      ...                            \n",
              "defeat   56630       56630  ...             56630     56630\n",
              "draw       724         724  ...               724       724\n",
              "victory  78245       78245  ...             78245     78245\n",
              "\n",
              "[3 rows x 10 columns]"
            ]
          },
          "metadata": {},
          "execution_count": 68
        }
      ],
      "source": [
        "train.groupby('result').count() "
      ]
    },
    {
      "cell_type": "markdown",
      "metadata": {
        "id": "jwK_Ri1exBiO"
      },
      "source": [
        "## Solo/duo Wins v.s. 3v3 Wins\n",
        "Solo and duo showdowns are game modes where players seek to survive either for themselves among 9 other players or in a team of 2 among 4 other teams. The gaming machanism is very different from 3v3 team battles, so players are likely to develop different gaming strategy for these modes.\\\n",
        "Therefore, we assume that **player who have a higher proportion of 3v3 wins performs better on 3v3 battles.**"
      ]
    },
    {
      "cell_type": "markdown",
      "metadata": {
        "id": "eadQUu655b22"
      },
      "source": [
        "`Facetgrid` explores conditional relationships.\\\n",
        "We can use it to examine the distribution of numerical variable across different results.\n"
      ]
    },
    {
      "cell_type": "code",
      "execution_count": 145,
      "metadata": {
        "colab": {
          "base_uri": "https://localhost:8080/",
          "height": 641
        },
        "id": "hwL-Y0kLzHY0",
        "outputId": "72b31338-5bb8-483f-8a22-ab9f85e69033"
      },
      "outputs": [
        {
          "output_type": "display_data",
          "data": {
            "image/png": "[encoded data removed]",
            "text/plain": [
              "<Figure size 648x216 with 3 Axes>"
            ]
          },
          "metadata": {
            "needs_background": "light"
          }
        },
        {
          "output_type": "display_data",
          "data": {
            "image/png": "[encoded data removed]",
            "text/plain": [
              "<Figure size 648x216 with 3 Axes>"
            ]
          },
          "metadata": {
            "needs_background": "light"
          }
        },
        {
          "output_type": "display_data",
          "data": {
            "image/png": "[encoded data removed]",
            "text/plain": [
              "<Figure size 648x216 with 3 Axes>"
            ]
          },
          "metadata": {
            "needs_background": "light"
          }
        }
      ],
      "source": [
        "wins = ['solo_win', 'duo_win', '3v3_win']\n",
        "for i in range(0,3):\n",
        "  g = sns.FacetGrid(col = 'result', data = train)\n",
        "  g.map(sns.histplot, wins[i])"
      ]
    },
    {
      "cell_type": "markdown",
      "metadata": {
        "id": "NED9Qljv5_py"
      },
      "source": [
        "There is little we can say about the relationship between the numbers wins and game result. This makes sense since two players can have different total number of game played, so maginitude of the count should give us little information. \n",
        "\n",
        "We will transform the data into a 3v3_win/ (solo_win + duo_win) ratio instead. \\\n",
        "\n",
        "Update: Because there are player with 0 record of showdown win, to avoid 0 in the denominator, we compute 3v3 wins over total wins.\\\n",
        "Update: Because there are 4 modes that are teams plays versus 2 showdowns, we adjusted the ratio with coefficients.\n"
      ]
    },
    {
      "cell_type": "code",
      "execution_count": 172,
      "metadata": {
        "id": "cweyWyvB6beK"
      },
      "outputs": [],
      "source": [
        "train['team_win_ratio'] = round(\n",
        "    (train['3v3_win']/4) / ((train['duo_win'] + train['solo_win'])/2 + (train['3v3_win']/4)), 3)"
      ]
    },
    {
      "cell_type": "code",
      "source": [
        "test['team_win_ratio'] = round(\n",
        "    (test['3v3_win']/4) / ((test['duo_win'] + test['solo_win'])/2 + (test['3v3_win']/4)), 3)"
      ],
      "metadata": {
        "id": "Xpt_qtiNGeb_"
      },
      "execution_count": 175,
      "outputs": []
    },
    {
      "cell_type": "code",
      "execution_count": 173,
      "metadata": {
        "colab": {
          "base_uri": "https://localhost:8080/"
        },
        "id": "iuC_nJ0O8dLu",
        "outputId": "0bd521b7-b084-48c9-fcdd-9fb6ba47b203"
      },
      "outputs": [
        {
          "output_type": "execute_result",
          "data": {
            "text/plain": [
              "count    135584.000000\n",
              "mean          0.637815\n",
              "std           0.173703\n",
              "min           0.100000\n",
              "25%           0.516000\n",
              "50%           0.652000\n",
              "75%           0.772000\n",
              "max           1.000000\n",
              "Name: team_win_ratio, dtype: float64"
            ]
          },
          "metadata": {},
          "execution_count": 173
        }
      ],
      "source": [
        "train['team_win_ratio'].describe()"
      ]
    },
    {
      "cell_type": "code",
      "source": [
        "sns.histplot(data=train, x = 'team_win_ratio')"
      ],
      "metadata": {
        "colab": {
          "base_uri": "https://localhost:8080/",
          "height": 297
        },
        "id": "ugc1KnxPPSjh",
        "outputId": "fb03f57e-83aa-42a7-bdef-7e95a7cd8ef6"
      },
      "execution_count": 174,
      "outputs": [
        {
          "output_type": "execute_result",
          "data": {
            "text/plain": [
              "<matplotlib.axes._subplots.AxesSubplot at 0x7f86c7dfcb10>"
            ]
          },
          "metadata": {},
          "execution_count": 174
        },
        {
          "output_type": "display_data",
          "data": {
            "image/png": "[encoded data removed]",
            "text/plain": [
              "<Figure size 432x288 with 1 Axes>"
            ]
          },
          "metadata": {
            "needs_background": "light"
          }
        }
      ]
    },
    {
      "cell_type": "code",
      "execution_count": 176,
      "metadata": {
        "colab": {
          "base_uri": "https://localhost:8080/",
          "height": 300
        },
        "id": "yG0XC4a17lUC",
        "outputId": "bec704da-e1c1-406c-f020-40e745be8af6"
      },
      "outputs": [
        {
          "output_type": "execute_result",
          "data": {
            "text/plain": [
              "[(0.2, 1.0)]"
            ]
          },
          "metadata": {},
          "execution_count": 176
        },
        {
          "output_type": "display_data",
          "data": {
            "image/png": "[encoded data removed]",
            "text/plain": [
              "<Figure size 432x288 with 1 Axes>"
            ]
          },
          "metadata": {
            "needs_background": "light"
          }
        }
      ],
      "source": [
        "sns.boxplot(x='result', y='team_win_ratio',\n",
        "            data=train).set(ylim=(0.2,1.0))"
      ]
    },
    {
      "cell_type": "markdown",
      "metadata": {
        "id": "H4ATBJhW-2S6"
      },
      "source": [
        "The graph does not show an obvious correlation, but some of our model suggested that the feature provides some information. We keep the team win_ratio and drop the 3 win counts."
      ]
    },
    {
      "cell_type": "code",
      "execution_count": 177,
      "metadata": {
        "id": "5I910PNO_Gcv"
      },
      "outputs": [],
      "source": [
        "test.drop(['solo_win', 'duo_win', '3v3_win'], inplace=True, axis = 1)\n",
        "train.drop(['solo_win', 'duo_win', '3v3_win'], inplace=True, axis = 1)"
      ]
    },
    {
      "cell_type": "markdown",
      "metadata": {
        "id": "SOSDriCoAkXM"
      },
      "source": [
        "##Player Information\n",
        "In this section, we examine the relationship between a player's brawler trophy, total trophy, and exp level."
      ]
    },
    {
      "cell_type": "code",
      "execution_count": 178,
      "metadata": {
        "colab": {
          "base_uri": "https://localhost:8080/",
          "height": 1000
        },
        "id": "fuRzm7DcAxKa",
        "outputId": "ce244449-b682-4b1c-af97-e8f967129529"
      },
      "outputs": [
        {
          "output_type": "execute_result",
          "data": {
            "text/plain": [
              "(120.0, 440.0)"
            ]
          },
          "metadata": {},
          "execution_count": 178
        },
        {
          "output_type": "display_data",
          "data": {
            "image/png": "[encoded data removed]",
            "text/plain": [
              "<Figure size 430.125x360 with 1 Axes>"
            ]
          },
          "metadata": {
            "needs_background": "light"
          }
        },
        {
          "output_type": "display_data",
          "data": {
            "image/png": "[encoded data removed]",
            "text/plain": [
              "<Figure size 430.125x360 with 1 Axes>"
            ]
          },
          "metadata": {
            "needs_background": "light"
          }
        },
        {
          "output_type": "display_data",
          "data": {
            "image/png": "[encoded data removed]",
            "text/plain": [
              "<Figure size 430.125x360 with 1 Axes>"
            ]
          },
          "metadata": {
            "needs_background": "light"
          }
        }
      ],
      "source": [
        "sns.displot(train, x='b_trophies', hue='result')\n",
        "plt.xlim(0,1250)\n",
        "sns.displot(train, x='p_trophies', hue='result')\n",
        "plt.xlim(31000,56000)\n",
        "sns.displot(train, x='exp_level', hue='result')\n",
        "plt.xlim(120,440)"
      ]
    },
    {
      "cell_type": "markdown",
      "metadata": {
        "id": "8QLByUCVJhvR"
      },
      "source": [
        "The graph shows that the win/lose count difference seem to be greater around certain values. We will keep these features."
      ]
    },
    {
      "cell_type": "markdown",
      "metadata": {
        "id": "ue3FyoP5JNKA"
      },
      "source": [
        "#Feature Engineering \n"
      ]
    },
    {
      "cell_type": "code",
      "execution_count": 179,
      "metadata": {
        "colab": {
          "base_uri": "https://localhost:8080/",
          "height": 175
        },
        "id": "mHhRwXFvDRin",
        "outputId": "0b1c10a9-d8b6-4446-e115-c9e0077d274b"
      },
      "outputs": [
        {
          "output_type": "execute_result",
          "data": {
            "text/html": [
              "\n",
              "  <div id=\"df-2ff9212d-9823-4d5d-8230-1f2d9bbc438f\">\n",
              "    <div class=\"colab-df-container\">\n",
              "      <div>\n",
              "<style scoped>\n",
              "    .dataframe tbody tr th:only-of-type {\n",
              "        vertical-align: middle;\n",
              "    }\n",
              "\n",
              "    .dataframe tbody tr th {\n",
              "        vertical-align: top;\n",
              "    }\n",
              "\n",
              "    .dataframe thead th {\n",
              "        text-align: right;\n",
              "    }\n",
              "</style>\n",
              "<table border=\"1\" class=\"dataframe\">\n",
              "  <thead>\n",
              "    <tr style=\"text-align: right;\">\n",
              "      <th></th>\n",
              "      <th>power</th>\n",
              "      <th>b_trophies</th>\n",
              "      <th>p_trophies</th>\n",
              "      <th>exp_level</th>\n",
              "      <th>trophy_difference</th>\n",
              "      <th>power_difference</th>\n",
              "      <th>win_rate</th>\n",
              "      <th>team_win_ratio</th>\n",
              "    </tr>\n",
              "    <tr>\n",
              "      <th>result</th>\n",
              "      <th></th>\n",
              "      <th></th>\n",
              "      <th></th>\n",
              "      <th></th>\n",
              "      <th></th>\n",
              "      <th></th>\n",
              "      <th></th>\n",
              "      <th></th>\n",
              "    </tr>\n",
              "  </thead>\n",
              "  <tbody>\n",
              "    <tr>\n",
              "      <th>defeat</th>\n",
              "      <td>56462</td>\n",
              "      <td>56462</td>\n",
              "      <td>56462</td>\n",
              "      <td>56462</td>\n",
              "      <td>56462</td>\n",
              "      <td>56462</td>\n",
              "      <td>56462</td>\n",
              "      <td>56462</td>\n",
              "    </tr>\n",
              "    <tr>\n",
              "      <th>draw</th>\n",
              "      <td>719</td>\n",
              "      <td>719</td>\n",
              "      <td>719</td>\n",
              "      <td>719</td>\n",
              "      <td>719</td>\n",
              "      <td>719</td>\n",
              "      <td>719</td>\n",
              "      <td>719</td>\n",
              "    </tr>\n",
              "    <tr>\n",
              "      <th>victory</th>\n",
              "      <td>78403</td>\n",
              "      <td>78403</td>\n",
              "      <td>78403</td>\n",
              "      <td>78403</td>\n",
              "      <td>78403</td>\n",
              "      <td>78403</td>\n",
              "      <td>78403</td>\n",
              "      <td>78403</td>\n",
              "    </tr>\n",
              "  </tbody>\n",
              "</table>\n",
              "</div>\n",
              "      <button class=\"colab-df-convert\" onclick=\"convertToInteractive('df-2ff9212d-9823-4d5d-8230-1f2d9bbc438f')\"\n",
              "              title=\"Convert this dataframe to an interactive table.\"\n",
              "              style=\"display:none;\">\n",
              "        \n",
              "  <svg xmlns=\"http://www.w3.org/2000/svg\" height=\"24px\"viewBox=\"0 0 24 24\"\n",
              "       width=\"24px\">\n",
              "    <path d=\"M0 0h24v24H0V0z\" fill=\"none\"/>\n",
              "    <path d=\"M18.56 5.44l.94 2.06.94-2.06 2.06-.94-2.06-.94-.94-2.06-.94 2.06-2.06.94zm-11 1L8.5 8.5l.94-2.06 2.06-.94-2.06-.94L8.5 2.5l-.94 2.06-2.06.94zm10 10l.94 2.06.94-2.06 2.06-.94-2.06-.94-.94-2.06-.94 2.06-2.06.94z\"/><path d=\"M17.41 7.96l-1.37-1.37c-.4-.4-.92-.59-1.43-.59-.52 0-1.04.2-1.43.59L10.3 9.45l-7.72 7.72c-.78.78-.78 2.05 0 2.83L4 21.41c.39.39.9.59 1.41.59.51 0 1.02-.2 1.41-.59l7.78-7.78 2.81-2.81c.8-.78.8-2.07 0-2.86zM5.41 20L4 18.59l7.72-7.72 1.47 1.35L5.41 20z\"/>\n",
              "  </svg>\n",
              "      </button>\n",
              "      \n",
              "  <style>\n",
              "    .colab-df-container {\n",
              "      display:flex;\n",
              "      flex-wrap:wrap;\n",
              "      gap: 12px;\n",
              "    }\n",
              "\n",
              "    .colab-df-convert {\n",
              "      background-color: #E8F0FE;\n",
              "      border: none;\n",
              "      border-radius: 50%;\n",
              "      cursor: pointer;\n",
              "      display: none;\n",
              "      fill: #1967D2;\n",
              "      height: 32px;\n",
              "      padding: 0 0 0 0;\n",
              "      width: 32px;\n",
              "    }\n",
              "\n",
              "    .colab-df-convert:hover {\n",
              "      background-color: #E2EBFA;\n",
              "      box-shadow: 0px 1px 2px rgba(60, 64, 67, 0.3), 0px 1px 3px 1px rgba(60, 64, 67, 0.15);\n",
              "      fill: #174EA6;\n",
              "    }\n",
              "\n",
              "    [theme=dark] .colab-df-convert {\n",
              "      background-color: #3B4455;\n",
              "      fill: #D2E3FC;\n",
              "    }\n",
              "\n",
              "    [theme=dark] .colab-df-convert:hover {\n",
              "      background-color: #434B5C;\n",
              "      box-shadow: 0px 1px 3px 1px rgba(0, 0, 0, 0.15);\n",
              "      filter: drop-shadow(0px 1px 2px rgba(0, 0, 0, 0.3));\n",
              "      fill: #FFFFFF;\n",
              "    }\n",
              "  </style>\n",
              "\n",
              "      <script>\n",
              "        const buttonEl =\n",
              "          document.querySelector('#df-2ff9212d-9823-4d5d-8230-1f2d9bbc438f button.colab-df-convert');\n",
              "        buttonEl.style.display =\n",
              "          google.colab.kernel.accessAllowed ? 'block' : 'none';\n",
              "\n",
              "        async function convertToInteractive(key) {\n",
              "          const element = document.querySelector('#df-2ff9212d-9823-4d5d-8230-1f2d9bbc438f');\n",
              "          const dataTable =\n",
              "            await google.colab.kernel.invokeFunction('convertToInteractive',\n",
              "                                                     [key], {});\n",
              "          if (!dataTable) return;\n",
              "\n",
              "          const docLinkHtml = 'Like what you see? Visit the ' +\n",
              "            '<a target=\"_blank\" href=https://colab.research.google.com/notebooks/data_table.ipynb>data table notebook</a>'\n",
              "            + ' to learn more about interactive tables.';\n",
              "          element.innerHTML = '';\n",
              "          dataTable['output_type'] = 'display_data';\n",
              "          await google.colab.output.renderOutput(dataTable, element);\n",
              "          const docLink = document.createElement('div');\n",
              "          docLink.innerHTML = docLinkHtml;\n",
              "          element.appendChild(docLink);\n",
              "        }\n",
              "      </script>\n",
              "    </div>\n",
              "  </div>\n",
              "  "
            ],
            "text/plain": [
              "         power  b_trophies  ...  win_rate  team_win_ratio\n",
              "result                      ...                          \n",
              "defeat   56462       56462  ...     56462           56462\n",
              "draw       719         719  ...       719             719\n",
              "victory  78403       78403  ...     78403           78403\n",
              "\n",
              "[3 rows x 8 columns]"
            ]
          },
          "metadata": {},
          "execution_count": 179
        }
      ],
      "source": [
        "train.groupby(by='result').count()"
      ]
    },
    {
      "cell_type": "markdown",
      "metadata": {
        "id": "x6fzIYkbDeU0"
      },
      "source": [
        "Because draws are very rare, 725/134874, we will just drop the entries with draw result."
      ]
    },
    {
      "cell_type": "code",
      "execution_count": 180,
      "metadata": {
        "id": "geIn7o6ODdDA"
      },
      "outputs": [],
      "source": [
        "train = train[train.result != 'draw']\n",
        "test = test[test.result != 'draw']"
      ]
    },
    {
      "cell_type": "markdown",
      "metadata": {
        "id": "DbdY7FsyFzGC"
      },
      "source": [
        "Convert categorical values to numbers."
      ]
    },
    {
      "cell_type": "code",
      "execution_count": null,
      "metadata": {
        "id": "2ogVYvKEcAEN"
      },
      "outputs": [],
      "source": [
        "train['result'] = train['result'].map({'victory': 1, 'defeat': 0 }).astype(int)\n",
        "test['result'] = test['result'].map({'victory': 1, 'defeat': 0 }).astype(int)"
      ]
    },
    {
      "cell_type": "markdown",
      "metadata": {
        "id": "D43sVVXxuxxA"
      },
      "source": [
        "#Modelling\n",
        "Our goal is to predict, given a player's pregame information, whether the player can win or not, requiring a **binary classification** model. Therefore, we consider the following ML models:\n",
        "\n",
        "\n",
        "*   SGD\n",
        "*   LinearRegression\n",
        "*   Decision Tree\n",
        "*   RandomForest\n",
        "*   KNN \n",
        "*   XGBClassifier\n",
        "* Naive Bayes\n",
        "* Perceptron\n"
      ]
    },
    {
      "cell_type": "markdown",
      "metadata": {
        "id": "pAG5WIIlTF68"
      },
      "source": [
        "Import modules."
      ]
    },
    {
      "cell_type": "code",
      "execution_count": 186,
      "metadata": {
        "id": "YcdOq221F5sf"
      },
      "outputs": [],
      "source": [
        "from sklearn.linear_model import LogisticRegression\n",
        "from sklearn.svm import SVC, LinearSVC\n",
        "from sklearn.ensemble import RandomForestClassifier\n",
        "from sklearn.neighbors import KNeighborsClassifier\n",
        "from sklearn.naive_bayes import GaussianNB\n",
        "from sklearn.linear_model import Perceptron\n",
        "from sklearn.linear_model import SGDClassifier\n",
        "from sklearn.tree import DecisionTreeClassifier\n",
        "from sklearn.preprocessing import RobustScaler\n",
        "\n",
        "from sklearn.metrics import accuracy_score\n",
        "from sklearn.model_selection import GridSearchCV\n",
        "from sklearn.metrics import confusion_matrix"
      ]
    },
    {
      "cell_type": "code",
      "execution_count": 187,
      "metadata": {
        "id": "hxT_rABfS-p7"
      },
      "outputs": [],
      "source": [
        "X, x_test = train.drop('result', axis = 1), test.drop('result', axis = 1)\n",
        "y, y_test = train['result'], test['result']"
      ]
    },
    {
      "cell_type": "markdown",
      "source": [
        "Dataset for testing power feature:"
      ],
      "metadata": {
        "id": "N6Txa7H3NcaW"
      }
    },
    {
      "cell_type": "code",
      "execution_count": null,
      "metadata": {
        "id": "3wDncCABGhM7"
      },
      "outputs": [],
      "source": [
        "#X_1, x_test_1 = train_no_pow.drop('result', axis = 1), test_no_pow.drop('result', axis = 1)\n",
        "#y_1, y_test_1 = train_no_pow['result'], test_no_pow['result']"
      ]
    },
    {
      "cell_type": "markdown",
      "metadata": {
        "id": "VBNbYhyzLan6"
      },
      "source": [
        "##Decision Tree \n",
        "Best hyper parameters: \n",
        "\n",
        "max depth| min_samples_split\n",
        "--------|---------------- \n",
        "34 | 2\n",
        "\n",
        "Accuracy improved from\n",
        "69.981 to 84% when more training data is added.\n",
        "Best hyperparameters did not change.\n",
        "                      "
      ]
    },
    {
      "cell_type": "code",
      "execution_count": 188,
      "metadata": {
        "id": "l-lQ-XEXTPkE",
        "colab": {
          "base_uri": "https://localhost:8080/"
        },
        "outputId": "324605b6-b1e1-47eb-99d8-48bb81f3f074"
      },
      "outputs": [
        {
          "output_type": "execute_result",
          "data": {
            "text/plain": [
              "DecisionTreeClassifier(max_depth=34, random_state=0)"
            ]
          },
          "metadata": {},
          "execution_count": 188
        }
      ],
      "source": [
        "decision_tree = DecisionTreeClassifier(random_state=0, max_depth=34, \n",
        "                                       min_samples_split=2)\n",
        "decision_tree.fit(X, y)"
      ]
    },
    {
      "cell_type": "code",
      "execution_count": 191,
      "metadata": {
        "colab": {
          "base_uri": "https://localhost:8080/",
          "height": 307
        },
        "id": "v8TpaMRM4QBf",
        "outputId": "e23cf12d-9f9e-4083-8fd9-d80533eaed02"
      },
      "outputs": [
        {
          "output_type": "display_data",
          "data": {
            "image/png": "[encoded data removed]",
            "text/plain": [
              "<Figure size 432x288 with 2 Axes>"
            ]
          },
          "metadata": {
            "needs_background": "light"
          }
        }
      ],
      "source": [
        "preds = decision_tree.predict(x_test)\n",
        "cf_matrix = confusion_matrix(y_test, preds)\n",
        "\n",
        "ax = sns.heatmap(cf_matrix/np.sum(cf_matrix), annot=True, cmap='Blues')\n",
        "\n",
        "ax.set_title('Decision Tree Classification Confusion Matrix ');\n",
        "ax.set_xlabel('\\nPredicted Values')\n",
        "ax.set_ylabel('Actual Values ');\n",
        "\n",
        "ax.xaxis.set_ticklabels(['Defeat','Victory'])\n",
        "ax.yaxis.set_ticklabels(['Defeat','Victory'])\n",
        "\n",
        "## Display the visualization of the Confusion Matrix.\n",
        "plt.show()"
      ]
    },
    {
      "cell_type": "markdown",
      "source": [
        "###Feature Importance"
      ],
      "metadata": {
        "id": "e7p0RrzpJDfS"
      }
    },
    {
      "cell_type": "code",
      "source": [
        "importance = decision_tree.feature_importances_\n",
        "for i,v in enumerate(importance):\n",
        "\tprint('Feature: {}, Score: {}'.format(X.columns[i],v))"
      ],
      "metadata": {
        "colab": {
          "base_uri": "https://localhost:8080/"
        },
        "id": "S_jCOt5cEsZC",
        "outputId": "65cd6c9c-18cb-4d81-8bf1-6eb1c3675aed"
      },
      "execution_count": 192,
      "outputs": [
        {
          "output_type": "stream",
          "name": "stdout",
          "text": [
            "Feature: power, Score: 0.024518291401161907\n",
            "Feature: b_trophies, Score: 0.18051067664020196\n",
            "Feature: p_trophies, Score: 0.1267033359472476\n",
            "Feature: exp_level, Score: 0.1128427689947055\n",
            "Feature: trophy_difference, Score: 0.2245943317050426\n",
            "Feature: power_difference, Score: 0.06933529297673759\n",
            "Feature: win_rate, Score: 0.1295834160223615\n",
            "Feature: team_win_ratio, Score: 0.13191188631254128\n"
          ]
        }
      ]
    },
    {
      "cell_type": "markdown",
      "source": [
        "###Tuning"
      ],
      "metadata": {
        "id": "WbIH1RjBcN7F"
      }
    },
    {
      "cell_type": "code",
      "source": [
        "X.columns"
      ],
      "metadata": {
        "colab": {
          "base_uri": "https://localhost:8080/"
        },
        "id": "hxyNYSmcEjZf",
        "outputId": "5078f594-f975-41e5-f783-043def9f4eed"
      },
      "execution_count": null,
      "outputs": [
        {
          "output_type": "execute_result",
          "data": {
            "text/plain": [
              "Index(['b_trophies', 'p_trophies', 'exp_level', 'trophy_difference',\n",
              "       'power_difference', 'win_rate', 'team_win_ratio'],\n",
              "      dtype='object')"
            ]
          },
          "metadata": {},
          "execution_count": 181
        }
      ]
    },
    {
      "cell_type": "code",
      "execution_count": null,
      "metadata": {
        "id": "i7n2lNqPMxIM"
      },
      "outputs": [],
      "source": [
        "from pandas.core.common import random_state\n",
        "dt_hyper_param = {\n",
        "    'max_depth' : [24,26,28,30,32,34],\n",
        "    'min_samples_split':[2,3,4,5,6],\n",
        "    'random_state' : [1]\n",
        "}\n",
        "def tuneDT(params):\n",
        "  grid = GridSearchCV(decision_tree, params)\n",
        "  grid.fit(X,y)\n",
        "  preds = grid.predict(x_test)\n",
        "  acc_dt_grid = round(accuracy_score(y_test,preds) * 100, 3)\n",
        "  print(acc_dt_grid)\n",
        "  print(grid.best_params_)\n",
        "  return grid.best_params_\n"
      ]
    },
    {
      "cell_type": "code",
      "execution_count": null,
      "metadata": {
        "colab": {
          "base_uri": "https://localhost:8080/"
        },
        "id": "CJDthih2sX9d",
        "outputId": "54713853-721c-4225-99d4-62ff3b0ea519"
      },
      "outputs": [
        {
          "output_type": "stream",
          "name": "stdout",
          "text": [
            "84.063\n",
            "{'max_depth': 34, 'min_samples_split': 2, 'random_state': 1}\n"
          ]
        }
      ],
      "source": [
        "# tune decision tree\n",
        "best_dt_param = tuneDT(dt_hyper_param)"
      ]
    },
    {
      "cell_type": "markdown",
      "metadata": {
        "id": "OMyzw4xjUJRV"
      },
      "source": [
        "##RandomForest \n",
        "Best hyper parameters: \n",
        "\n",
        " Data Size|max depth| min_samples_split\n",
        "--------|---------|------- \n",
        "small |20 | 6\n",
        "large | 3| 200\n",
        "\n",
        "\n",
        "Accuracy score improved from 73.454 to 86.343 when more training data is added.\n"
      ]
    },
    {
      "cell_type": "code",
      "execution_count": 193,
      "metadata": {
        "colab": {
          "base_uri": "https://localhost:8080/"
        },
        "id": "LSLKsXjCUW9m",
        "outputId": "2364c6bc-5499-43e5-b5ba-d2bc4c3986be"
      },
      "outputs": [
        {
          "output_type": "execute_result",
          "data": {
            "text/plain": [
              "RandomForestClassifier(max_depth=48, min_samples_split=3, n_estimators=200,\n",
              "                       random_state=1)"
            ]
          },
          "metadata": {},
          "execution_count": 193
        }
      ],
      "source": [
        "# takes ~ 1 min to run \n",
        "randforst = RandomForestClassifier(n_estimators= 200, random_state = 1,\n",
        "                                   max_depth = 48, min_samples_split=3)\n",
        "randforst.fit(X, y)"
      ]
    },
    {
      "cell_type": "code",
      "execution_count": 194,
      "metadata": {
        "colab": {
          "base_uri": "https://localhost:8080/",
          "height": 307
        },
        "id": "M_Gyv8x-WXSf",
        "outputId": "e4505a02-c6d1-4afe-e738-8b989024f6b4"
      },
      "outputs": [
        {
          "output_type": "display_data",
          "data": {
            "image/png": "[encoded data removed]",
            "text/plain": [
              "<Figure size 432x288 with 2 Axes>"
            ]
          },
          "metadata": {
            "needs_background": "light"
          }
        }
      ],
      "source": [
        "preds = randforst.predict(x_test)\n",
        "cf_matrix = confusion_matrix(y_test, preds)\n",
        "\n",
        "ax = sns.heatmap(cf_matrix/np.sum(cf_matrix), annot=True, cmap='Blues')\n",
        "\n",
        "ax.set_title('Random Forest Classification Confusion Matrix ');\n",
        "ax.set_xlabel('\\nPredicted Values')\n",
        "ax.set_ylabel('Actual Values ');\n",
        "\n",
        "## Ticket labels - List must be in alphabetical order\n",
        "ax.xaxis.set_ticklabels(['Defeat','Victory'])\n",
        "ax.yaxis.set_ticklabels(['Defeat','Victory'])\n",
        "\n",
        "## Display the visualization of the Confusion Matrix.\n",
        "plt.show()"
      ]
    },
    {
      "cell_type": "code",
      "source": [
        "importance = randforst.feature_importances_\n",
        "for i,v in enumerate(importance):\n",
        "\tprint('Feature: {}, Score: {}'.format(X.columns[i],v))"
      ],
      "metadata": {
        "colab": {
          "base_uri": "https://localhost:8080/"
        },
        "id": "cKXgKHtVX0oS",
        "outputId": "d80c1558-e4b0-4745-bd3e-a9d77e4ef37d"
      },
      "execution_count": 195,
      "outputs": [
        {
          "output_type": "stream",
          "name": "stdout",
          "text": [
            "Feature: power, Score: 0.03523644771405805\n",
            "Feature: b_trophies, Score: 0.16972760657284042\n",
            "Feature: p_trophies, Score: 0.13187181453455069\n",
            "Feature: exp_level, Score: 0.11959208473310123\n",
            "Feature: trophy_difference, Score: 0.20813007510817555\n",
            "Feature: power_difference, Score: 0.07752343528567647\n",
            "Feature: win_rate, Score: 0.12931488897618976\n",
            "Feature: team_win_ratio, Score: 0.12860364707540786\n"
          ]
        }
      ]
    },
    {
      "cell_type": "markdown",
      "source": [
        "Tuning "
      ],
      "metadata": {
        "id": "jdIazHV9X3Zj"
      }
    },
    {
      "cell_type": "code",
      "execution_count": null,
      "metadata": {
        "id": "LGfvYNezXF_I"
      },
      "outputs": [],
      "source": [
        "rf_hyper_param = {\n",
        "    'max_depth' : [48, 50, 52],\n",
        "    'min_samples_split':[3],\n",
        "    'random_state' : [1],\n",
        "}\n",
        "def tuneRF(params):\n",
        "  grid = GridSearchCV(randforst, params)\n",
        "  grid.fit(X,y)\n",
        "  preds = grid.predict(x_test)\n",
        "  acc_dt_grid = round(accuracy_score(y_test,preds) * 100, 3)\n",
        "  print(acc_dt_grid)\n",
        "  print(grid.best_params_)\n",
        "  return grid.best_params_"
      ]
    },
    {
      "cell_type": "code",
      "execution_count": null,
      "metadata": {
        "colab": {
          "base_uri": "https://localhost:8080/"
        },
        "id": "nEEHP7PpXhRG",
        "outputId": "b7f6d856-f54a-47f9-f40d-a206dc4a0875"
      },
      "outputs": [
        {
          "output_type": "stream",
          "name": "stdout",
          "text": [
            "86.155\n",
            "{'max_depth': 48, 'min_samples_split': 3, 'random_state': 1}\n"
          ]
        }
      ],
      "source": [
        "rf_best_param = tuneRF(rf_hyper_param)"
      ]
    },
    {
      "cell_type": "markdown",
      "metadata": {
        "id": "J7CMOqqIL2nX"
      },
      "source": [
        "#XGBClassifier \n",
        "\n",
        "  score   |    eta    |early stop|n_estimator | gamma| max_depth| min_cw|colsample|subsample\n",
        "--------- | --------- | ------ | ------------ |------|-----|-----|-----|----\n",
        "63.81     |   0.1     |   20   |     1000     | 0.1  |  3  |  5  | 0.6 | 0.9\n",
        "68.673    |   0.01    |   20   |     1000     | 0.0  |  9  |  1  | 0.9 | 0.8\n",
        "72.711    |   0.05    |   30   |     1000     | 0.0  |  9  |  1  | 0.9 | 0.8\n",
        "73.185    |   0.02    |   100  |     1000     | 0.0  |  9  |  1  | 0.9 | 0.8\n",
        "\n",
        "Same hypreparameters with new dataset:77%"
      ]
    },
    {
      "cell_type": "code",
      "execution_count": 196,
      "metadata": {
        "id": "V7Phwaksjm2o"
      },
      "outputs": [],
      "source": [
        "from xgboost import XGBRegressor\n",
        "from scipy import rand\n",
        "\n",
        "from sklearn.metrics import accuracy_score, mean_absolute_error"
      ]
    },
    {
      "cell_type": "code",
      "execution_count": 197,
      "metadata": {
        "id": "mJ4ZCghnNpiG",
        "colab": {
          "base_uri": "https://localhost:8080/"
        },
        "outputId": "c5eac533-a28c-4e78-a010-58a2b55b2964"
      },
      "outputs": [
        {
          "output_type": "execute_result",
          "data": {
            "text/plain": [
              "Index(['power', 'b_trophies', 'p_trophies', 'exp_level', 'trophy_difference',\n",
              "       'power_difference', 'win_rate', 'team_win_ratio'],\n",
              "      dtype='object')"
            ]
          },
          "metadata": {},
          "execution_count": 197
        }
      ],
      "source": [
        "# Validation set\n",
        "X_train, x_val, y_train, y_val = train_test_split(X, y, test_size = 0.2) \n",
        "# 0.7 * 0.2 = 0.14 validation\n",
        "X_train.columns"
      ]
    },
    {
      "cell_type": "code",
      "execution_count": null,
      "metadata": {
        "id": "sbFasgOqj91E"
      },
      "outputs": [],
      "source": [
        "# running takes 3 mins on 200k data \n",
        "from xgboost.sklearn import XGBClassifier\n",
        "from sklearn.model_selection import GridSearchCV\n",
        "\n",
        "xgb = XGBClassifier(n_estimators = 1000, \n",
        "                    learning_rate = 0.02,\n",
        "                    max_depth=9,\n",
        "                    min_child_weight=1,\n",
        "                    gamma=0,\n",
        "                    subsample=0.8,\n",
        "                    colsample_bytree=0.9,\n",
        "                    objective= 'binary:logistic',\n",
        "                    verbosity = 0,\n",
        "                    random_state=1)\n",
        "xgb.fit(X_train, y_train, eval_set=[(X_train, y_train),(x_val,y_val)],\n",
        "        early_stopping_rounds=100)\n"
      ]
    },
    {
      "cell_type": "code",
      "execution_count": 199,
      "metadata": {
        "colab": {
          "base_uri": "https://localhost:8080/",
          "height": 307
        },
        "id": "0bqFn-TeWxD3",
        "outputId": "aea2223a-1ded-4679-d0a9-7f899d45e67b"
      },
      "outputs": [
        {
          "output_type": "display_data",
          "data": {
            "image/png": "[encoded data removed]",
            "text/plain": [
              "<Figure size 432x288 with 2 Axes>"
            ]
          },
          "metadata": {
            "needs_background": "light"
          }
        }
      ],
      "source": [
        "preds = xgb.predict(x_test)\n",
        "acc_xgb = accuracy_score(y_test, preds)\n",
        "#acc_xgb \n",
        "cf_matrix = confusion_matrix(y_test, preds)\n",
        "\n",
        "ax = sns.heatmap(cf_matrix/np.sum(cf_matrix), annot=True, cmap='Blues')\n",
        "\n",
        "ax.set_title('XGB Classification Confusion Matrix ');\n",
        "ax.set_xlabel('\\nPredicted Values')\n",
        "ax.set_ylabel('Actual Values ');\n",
        "\n",
        "## Ticket labels - List must be in alphabetical order\n",
        "ax.xaxis.set_ticklabels(['False','True'])\n",
        "ax.yaxis.set_ticklabels(['False','True'])\n",
        "\n",
        "## Display the visualization of the Confusion Matrix.\n",
        "plt.show()"
      ]
    },
    {
      "cell_type": "markdown",
      "source": [
        "###Feature Importance"
      ],
      "metadata": {
        "id": "r7fPCMN3P7JY"
      }
    },
    {
      "cell_type": "code",
      "source": [
        "importance = xgb.feature_importances_\n",
        "for i,v in enumerate(importance):\n",
        "\tprint('Feature: {}, Score: {}'.format(X.columns[i],v))"
      ],
      "metadata": {
        "colab": {
          "base_uri": "https://localhost:8080/"
        },
        "id": "MK1WCcsaQDuV",
        "outputId": "8bfcb4f6-f4a4-4ce2-fde4-07cdff16d010"
      },
      "execution_count": 200,
      "outputs": [
        {
          "output_type": "stream",
          "name": "stdout",
          "text": [
            "Feature: power, Score: 0.11738042533397675\n",
            "Feature: b_trophies, Score: 0.13722120225429535\n",
            "Feature: p_trophies, Score: 0.12576620280742645\n",
            "Feature: exp_level, Score: 0.11527597904205322\n",
            "Feature: trophy_difference, Score: 0.13981512188911438\n",
            "Feature: power_difference, Score: 0.11810553818941116\n",
            "Feature: win_rate, Score: 0.12368840724229813\n",
            "Feature: team_win_ratio, Score: 0.12274710834026337\n"
          ]
        }
      ]
    },
    {
      "cell_type": "markdown",
      "metadata": {
        "id": "qYRTyYzoT9Rr"
      },
      "source": [
        "###Tuning \n",
        "Tune Tree related parameters : `max_depth`[3,10], `min_child_weight`[1,6], `gamma`[0-1], `subsample`(0,1], `colsample_bytree` "
      ]
    },
    {
      "cell_type": "code",
      "execution_count": null,
      "metadata": {
        "colab": {
          "base_uri": "https://localhost:8080/"
        },
        "id": "K4YM7Goxls23",
        "outputId": "08cb389a-7be1-449c-f5fa-3fe2d1a8c443"
      },
      "outputs": [
        {
          "data": {
            "text/plain": [
              "({'max_depth': 9, 'min_child_weight': 1}, 0.7809424268214442)"
            ]
          },
          "execution_count": 271,
          "metadata": {},
          "output_type": "execute_result"
        }
      ],
      "source": [
        "param_1 = { # 9 ,1\n",
        "    'max_depth' : range(3, 10, 1),\n",
        "    'min_child_weight' : range(1, 6, 2)\n",
        "}\n",
        "grids1 = GridSearchCV(estimator = XGBClassifier(n_estimators = 100, \n",
        "                    learning_rate =0.1,\n",
        "                    gamma=0,\n",
        "                    subsample=0.8,\n",
        "                    colsample_bytree=0.8,\n",
        "                    objective= 'binary:logistic',\n",
        "                    random_state=1), \n",
        "                    param_grid = param_1, scoring='roc_auc')\n",
        "grids1.fit(X_train,y_train)\n",
        "grids1.best_params_, grids1.best_score_"
      ]
    },
    {
      "cell_type": "code",
      "execution_count": null,
      "metadata": {
        "colab": {
          "base_uri": "https://localhost:8080/"
        },
        "id": "XdERY1kKbmay",
        "outputId": "286264a5-b5dd-4f82-8ede-687d2d3ea5b8"
      },
      "outputs": [
        {
          "data": {
            "text/plain": [
              "({'gamma': 0.0}, 0.7809424268214442)"
            ]
          },
          "execution_count": 272,
          "metadata": {},
          "output_type": "execute_result"
        }
      ],
      "source": [
        "param_2 = {\n",
        "    'gamma' : [i/10.0 for i in range(0,6)]\n",
        "}\n",
        "grids2 = GridSearchCV(estimator = XGBClassifier(n_estimators = 100, \n",
        "                    learning_rate =0.1,\n",
        "                    max_depth=9,\n",
        "                    min_child_weight=1,\n",
        "                    subsample=0.8,\n",
        "                    colsample_bytree=0.8,\n",
        "                    objective= 'binary:logistic',\n",
        "                    random_state=1), \n",
        "                    param_grid = param_2, scoring='roc_auc')\n",
        "grids2.fit(X_train,y_train)\n",
        "grids2.best_params_, grids2.best_score_"
      ]
    },
    {
      "cell_type": "code",
      "execution_count": null,
      "metadata": {
        "colab": {
          "base_uri": "https://localhost:8080/"
        },
        "id": "GG6766ZmdpEv",
        "outputId": "a52c5d46-4fdc-47ce-ba21-edd47ce7224a"
      },
      "outputs": [
        {
          "data": {
            "text/plain": [
              "({'colsample_bytree': 0.9, 'subsample': 0.8}, 0.7812489001101606)"
            ]
          },
          "execution_count": 273,
          "metadata": {},
          "output_type": "execute_result"
        }
      ],
      "source": [
        "param_3 = {\n",
        " 'subsample':[i/10.0 for i in range(6,10)],\n",
        " 'colsample_bytree':[i/10.0 for i in range(6,10)]\n",
        "}\n",
        "grids3 = GridSearchCV(estimator = XGBClassifier(n_estimators = 100, \n",
        "                    learning_rate =0.1,\n",
        "                    max_depth=9,\n",
        "                    min_child_weight=1,\n",
        "                    gamma=0,\n",
        "                    objective= 'binary:logistic',\n",
        "                    random_state=1), \n",
        "                    param_grid = param_3, scoring='roc_auc')\n",
        "grids3.fit(X_train,y_train)\n",
        "grids3.best_params_, grids3.best_score_"
      ]
    },
    {
      "cell_type": "markdown",
      "source": [
        "##Some less ideal models "
      ],
      "metadata": {
        "id": "t-ZCxwFObpBI"
      }
    },
    {
      "cell_type": "code",
      "execution_count": null,
      "metadata": {
        "colab": {
          "base_uri": "https://localhost:8080/"
        },
        "id": "FTRVjc8gMbuz",
        "outputId": "2593d1ef-200e-441b-bec7-f4b7508634d4"
      },
      "outputs": [
        {
          "output_type": "execute_result",
          "data": {
            "text/plain": [
              "55.985"
            ]
          },
          "metadata": {},
          "execution_count": 41
        }
      ],
      "source": [
        "nb = GaussianNB()\n",
        "nb.fit(X_norm, y)\n",
        "preds = nb.predict(test_norm)\n",
        "acc = round(accuracy_score(y_test, preds) * 100, 3)\n",
        "acc"
      ]
    },
    {
      "cell_type": "code",
      "execution_count": null,
      "metadata": {
        "colab": {
          "base_uri": "https://localhost:8080/"
        },
        "id": "OjFAY5q1M5Kw",
        "outputId": "794801c7-ba98-4266-8822-2810f2d52e5a"
      },
      "outputs": [
        {
          "output_type": "execute_result",
          "data": {
            "text/plain": [
              "58.392"
            ]
          },
          "metadata": {},
          "execution_count": 44
        }
      ],
      "source": [
        "pct = Perceptron()\n",
        "pct.fit(X, y)\n",
        "preds = pct.predict(x_test)\n",
        "acc = round(accuracy_score(y_test, preds) * 100, 3)\n",
        "acc"
      ]
    },
    {
      "cell_type": "code",
      "execution_count": null,
      "metadata": {
        "colab": {
          "base_uri": "https://localhost:8080/"
        },
        "id": "fZSD6LZoNLY8",
        "outputId": "8667fe7e-21dc-45a7-e24a-7eda1891c3ac"
      },
      "outputs": [
        {
          "output_type": "execute_result",
          "data": {
            "text/plain": [
              "60.359"
            ]
          },
          "metadata": {},
          "execution_count": 45
        }
      ],
      "source": [
        "sgd = SGDClassifier()\n",
        "sgd.fit(X, y)\n",
        "preds = sgd.predict(x_test)\n",
        "acc = round(accuracy_score(y_test, preds) * 100, 3)\n",
        "acc"
      ]
    },
    {
      "cell_type": "code",
      "execution_count": null,
      "metadata": {
        "colab": {
          "base_uri": "https://localhost:8080/"
        },
        "id": "SQ3NkZTo7j6O",
        "outputId": "e9946c52-490e-48ef-a4ce-4f68f569ca15"
      },
      "outputs": [
        {
          "output_type": "execute_result",
          "data": {
            "text/plain": [
              "60.971"
            ]
          },
          "metadata": {},
          "execution_count": 34
        }
      ],
      "source": [
        "logr = LogisticRegression()\n",
        "logr.fit(X,y)\n",
        "preds = logr.predict(x_test)\n",
        "acc_logr = round(accuracy_score(y_test,preds) * 100, 3)\n",
        "acc_logr"
      ]
    },
    {
      "cell_type": "markdown",
      "source": [
        "##Saving Model with pickle.##"
      ],
      "metadata": {
        "id": "qz2R13u_a4Qx"
      }
    },
    {
      "cell_type": "markdown",
      "source": [
        "Random Forest and Decision Tree has shown to have significant improvement when size of training set is larger. We might consider saving the model and improving it with new training data.\n "
      ],
      "metadata": {
        "id": "N09jCgQvMekG"
      }
    },
    {
      "cell_type": "code",
      "source": [
        "# save the model to disk\n",
        "import pickle \n",
        "model_name = \"\"\n",
        "path = '/content/drive/MyDrive/Colab Notebooks/{}model_{}.sav'.format(model_name,'0212')\n",
        "\n",
        "pickle.dump(model_name, open(path, 'wb'))\n",
        " \n",
        "# some time later...\n",
        " \n",
        "# load the model from disk\n",
        "loaded_model = pickle.load(open(path, 'rb'))\n",
        "result = loaded_model.score(x_test, y_test)\n",
        "print(result)"
      ],
      "metadata": {
        "id": "BRV6vvGPa3dR"
      },
      "execution_count": null,
      "outputs": []
    },
    {
      "cell_type": "markdown",
      "source": [
        "#Conclusion\n",
        "We found that Tree models(Decision Tree, Random Forest, and XGBoost) are the best at predicting the outcome of a match given pre-game information only.\n",
        "\n",
        "At the same time, there is no sign of a strong pridicative feature, which suggested further feature selection. My personal take on this is to combine domain knowledge and design models that targets specific game modes/types of players. This will allow us to get a more straight forward sense of how each feature affect the match result. Generalizing all matches is possibly why we got no feature with high feature importance.\n",
        "\n",
        "Also, another improvement is to include lower ranking players (which cannot be done efficiently with Supercell API). Having top ranking players result in many features having low variance, which is not the general case. "
      ],
      "metadata": {
        "id": "KlT_JS24Rrik"
      }
    }
  ],
  "metadata": {
    "colab": {
      "collapsed_sections": [
        "FgIt-gPTgJJh",
        "hnvrsaufcd-1",
        "tRePyFmxpkbc",
        "27LobrDdq7-J",
        "jwK_Ri1exBiO",
        "SOSDriCoAkXM"
      ],
      "name": "BrawlStars Win Classification",
      "provenance": [],
      "history_visible": true,
      "toc_visible": true,
      "mount_file_id": "1ZrmUZ33rWz8qQcfS0nAiCzJLOtLhWczV",
      "authorship_tag": "ABX9TyP6Kf5yOvT3vkDMjcyQcVXm",
      "include_colab_link": true
    },
    "kernelspec": {
      "display_name": "Python 3",
      "name": "python3"
    },
    "language_info": {
      "name": "python"
    }
  },
  "nbformat": 4,
  "nbformat_minor": 0
}
